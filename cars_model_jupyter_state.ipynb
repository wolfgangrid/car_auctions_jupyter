{
 "cells": [
  {
   "cell_type": "code",
   "execution_count": 2,
   "metadata": {},
   "outputs": [],
   "source": [
    "import numpy as np\n",
    "#from scipy import interpolate\n",
    "from scipy.interpolate import interp1d\n",
    "import pandas as pd\n",
    "import matplotlib.pyplot as plt\n",
    "import seaborn as sns\n",
    "import scipy.optimize\n",
    "\n",
    "np.random.seed(1)\n",
    "#%load_ext autotime\n",
    "%matplotlib inline"
   ]
  },
  {
   "cell_type": "code",
   "execution_count": 3,
   "metadata": {},
   "outputs": [],
   "source": [
    "##\n",
    "# Grids\n",
    "##\n",
    "#y_grid = 10+30*np.array([range(0,50)]).reshape(50)\n",
    "#state_grid = np.array([200,250])\n",
    "#b_grid = 5*np.array(range(0,100))\n",
    "\n",
    "y_grid = 5000 + 5000*np.arange(600)\n",
    "#check if required\n",
    "y_grid = y_grid.reshape(600)\n",
    "b_grid = 20000 + 5000*np.arange(0,200)\n",
    "lyg = len(y_grid) \n",
    "\n",
    "#lbg = len(b_grid)"
   ]
  },
  {
   "cell_type": "code",
   "execution_count": 4,
   "metadata": {},
   "outputs": [],
   "source": [
    "##\n",
    "# Parameters\n",
    "##\n",
    "beta = 0.95\n",
    "alpha = 10\n",
    "w = np.array([0,0.5,1])\n",
    "param = np.append(alpha,w)\n",
    "J = len(w)\n",
    "rho = np.ones(np.shape(w))/np.shape(w)\n",
    "sigma=0.1\n",
    "n_draws = 200\n",
    "# distribution of own returns\n",
    "#distr_R = np.array( np.random.uniform(0.95,1.05,n_draws) )\n",
    "#distr_R = np.array( np.random.uniform(1,1,n_draws) )\n",
    "#bidders / income distribution\n",
    "N = 100\n",
    "b = 0.1\n",
    "#var_income = 1.2\n",
    "#y_realis_1 = np.random.lognormal(np.log(200),np.log(var_income),np.round(N))\n",
    "#y_realis_1 = np.array([np.random.lognormal(np.log(s),np.log(var_income),N) for s in state_grid])\n"
   ]
  },
  {
   "cell_type": "markdown",
   "metadata": {},
   "source": [
    "# States"
   ]
  },
  {
   "cell_type": "code",
   "execution_count": 5,
   "metadata": {},
   "outputs": [
    {
     "data": {
      "text/html": [
       "<div>\n",
       "<table border=\"1\" class=\"dataframe\">\n",
       "  <thead>\n",
       "    <tr style=\"text-align: right;\">\n",
       "      <th></th>\n",
       "      <th>Unnamed: 0</th>\n",
       "      <th>season</th>\n",
       "      <th>avgsp</th>\n",
       "      <th>state</th>\n",
       "      <th>return</th>\n",
       "    </tr>\n",
       "  </thead>\n",
       "  <tbody>\n",
       "    <tr>\n",
       "      <th>0</th>\n",
       "      <td>1</td>\n",
       "      <td>1992</td>\n",
       "      <td>448.303753</td>\n",
       "      <td>400</td>\n",
       "      <td>1.028869</td>\n",
       "    </tr>\n",
       "    <tr>\n",
       "      <th>1</th>\n",
       "      <td>2</td>\n",
       "      <td>1993</td>\n",
       "      <td>461.245832</td>\n",
       "      <td>400</td>\n",
       "      <td>1.088237</td>\n",
       "    </tr>\n",
       "    <tr>\n",
       "      <th>2</th>\n",
       "      <td>3</td>\n",
       "      <td>1994</td>\n",
       "      <td>501.945005</td>\n",
       "      <td>600</td>\n",
       "      <td>1.260932</td>\n",
       "    </tr>\n",
       "    <tr>\n",
       "      <th>3</th>\n",
       "      <td>4</td>\n",
       "      <td>1995</td>\n",
       "      <td>632.918330</td>\n",
       "      <td>600</td>\n",
       "      <td>1.265698</td>\n",
       "    </tr>\n",
       "    <tr>\n",
       "      <th>4</th>\n",
       "      <td>5</td>\n",
       "      <td>1996</td>\n",
       "      <td>801.083338</td>\n",
       "      <td>800</td>\n",
       "      <td>1.282998</td>\n",
       "    </tr>\n",
       "    <tr>\n",
       "      <th>5</th>\n",
       "      <td>6</td>\n",
       "      <td>1997</td>\n",
       "      <td>1027.788335</td>\n",
       "      <td>1000</td>\n",
       "      <td>1.213912</td>\n",
       "    </tr>\n",
       "    <tr>\n",
       "      <th>6</th>\n",
       "      <td>7</td>\n",
       "      <td>1998</td>\n",
       "      <td>1247.644999</td>\n",
       "      <td>1200</td>\n",
       "      <td>1.138104</td>\n",
       "    </tr>\n",
       "    <tr>\n",
       "      <th>7</th>\n",
       "      <td>8</td>\n",
       "      <td>1999</td>\n",
       "      <td>1419.950002</td>\n",
       "      <td>1400</td>\n",
       "      <td>0.9003773</td>\n",
       "    </tr>\n",
       "    <tr>\n",
       "      <th>8</th>\n",
       "      <td>9</td>\n",
       "      <td>2000</td>\n",
       "      <td>1278.490814</td>\n",
       "      <td>1200</td>\n",
       "      <td>0.8300242</td>\n",
       "    </tr>\n",
       "    <tr>\n",
       "      <th>9</th>\n",
       "      <td>10</td>\n",
       "      <td>2001</td>\n",
       "      <td>1061.178324</td>\n",
       "      <td>1000</td>\n",
       "      <td>0.8571863</td>\n",
       "    </tr>\n",
       "    <tr>\n",
       "      <th>10</th>\n",
       "      <td>11</td>\n",
       "      <td>2002</td>\n",
       "      <td>909.627508</td>\n",
       "      <td>1000</td>\n",
       "      <td>1.208724</td>\n",
       "    </tr>\n",
       "    <tr>\n",
       "      <th>11</th>\n",
       "      <td>12</td>\n",
       "      <td>2003</td>\n",
       "      <td>1099.488322</td>\n",
       "      <td>1000</td>\n",
       "      <td>1.075513</td>\n",
       "    </tr>\n",
       "    <tr>\n",
       "      <th>12</th>\n",
       "      <td>13</td>\n",
       "      <td>2004</td>\n",
       "      <td>1182.514150</td>\n",
       "      <td>1200</td>\n",
       "      <td>1.072614</td>\n",
       "    </tr>\n",
       "    <tr>\n",
       "      <th>13</th>\n",
       "      <td>14</td>\n",
       "      <td>2005</td>\n",
       "      <td>1268.381663</td>\n",
       "      <td>1200</td>\n",
       "      <td>1.132956</td>\n",
       "    </tr>\n",
       "    <tr>\n",
       "      <th>14</th>\n",
       "      <td>15</td>\n",
       "      <td>2006</td>\n",
       "      <td>1437.019989</td>\n",
       "      <td>1400</td>\n",
       "      <td>0.9669136</td>\n",
       "    </tr>\n",
       "    <tr>\n",
       "      <th>15</th>\n",
       "      <td>16</td>\n",
       "      <td>2007</td>\n",
       "      <td>1389.474162</td>\n",
       "      <td>1400</td>\n",
       "      <td>0.6604903</td>\n",
       "    </tr>\n",
       "    <tr>\n",
       "      <th>16</th>\n",
       "      <td>17</td>\n",
       "      <td>2008</td>\n",
       "      <td>917.734166</td>\n",
       "      <td>1000</td>\n",
       "      <td>1.190389</td>\n",
       "    </tr>\n",
       "    <tr>\n",
       "      <th>17</th>\n",
       "      <td>18</td>\n",
       "      <td>2009</td>\n",
       "      <td>1092.460815</td>\n",
       "      <td>1000</td>\n",
       "      <td>1.162699</td>\n",
       "    </tr>\n",
       "    <tr>\n",
       "      <th>18</th>\n",
       "      <td>19</td>\n",
       "      <td>2010</td>\n",
       "      <td>1270.203328</td>\n",
       "      <td>1200</td>\n",
       "      <td>1.038688</td>\n",
       "    </tr>\n",
       "    <tr>\n",
       "      <th>19</th>\n",
       "      <td>20</td>\n",
       "      <td>2011</td>\n",
       "      <td>1319.345001</td>\n",
       "      <td>1400</td>\n",
       "      <td>1.164117</td>\n",
       "    </tr>\n",
       "    <tr>\n",
       "      <th>20</th>\n",
       "      <td>21</td>\n",
       "      <td>2012</td>\n",
       "      <td>1535.872497</td>\n",
       "      <td>1600</td>\n",
       "      <td>1.21041</td>\n",
       "    </tr>\n",
       "    <tr>\n",
       "      <th>21</th>\n",
       "      <td>22</td>\n",
       "      <td>2013</td>\n",
       "      <td>1859.035828</td>\n",
       "      <td>1800</td>\n",
       "      <td>1.103449</td>\n",
       "    </tr>\n",
       "    <tr>\n",
       "      <th>22</th>\n",
       "      <td>23</td>\n",
       "      <td>2014</td>\n",
       "      <td>2051.350840</td>\n",
       "      <td>2000</td>\n",
       "      <td>1.001844</td>\n",
       "    </tr>\n",
       "    <tr>\n",
       "      <th>23</th>\n",
       "      <td>24</td>\n",
       "      <td>2015</td>\n",
       "      <td>2055.134175</td>\n",
       "      <td>2000</td>\n",
       "      <td>1.062225</td>\n",
       "    </tr>\n",
       "    <tr>\n",
       "      <th>24</th>\n",
       "      <td>25</td>\n",
       "      <td>2016</td>\n",
       "      <td>2183.015015</td>\n",
       "      <td>2200</td>\n",
       "      <td>NA</td>\n",
       "    </tr>\n",
       "  </tbody>\n",
       "</table>\n",
       "</div>"
      ],
      "text/plain": [
       "    Unnamed: 0  season        avgsp  state     return\n",
       "0            1    1992   448.303753    400   1.028869\n",
       "1            2    1993   461.245832    400   1.088237\n",
       "2            3    1994   501.945005    600   1.260932\n",
       "3            4    1995   632.918330    600   1.265698\n",
       "4            5    1996   801.083338    800   1.282998\n",
       "5            6    1997  1027.788335   1000   1.213912\n",
       "6            7    1998  1247.644999   1200   1.138104\n",
       "7            8    1999  1419.950002   1400  0.9003773\n",
       "8            9    2000  1278.490814   1200  0.8300242\n",
       "9           10    2001  1061.178324   1000  0.8571863\n",
       "10          11    2002   909.627508   1000   1.208724\n",
       "11          12    2003  1099.488322   1000   1.075513\n",
       "12          13    2004  1182.514150   1200   1.072614\n",
       "13          14    2005  1268.381663   1200   1.132956\n",
       "14          15    2006  1437.019989   1400  0.9669136\n",
       "15          16    2007  1389.474162   1400  0.6604903\n",
       "16          17    2008   917.734166   1000   1.190389\n",
       "17          18    2009  1092.460815   1000   1.162699\n",
       "18          19    2010  1270.203328   1200   1.038688\n",
       "19          20    2011  1319.345001   1400   1.164117\n",
       "20          21    2012  1535.872497   1600    1.21041\n",
       "21          22    2013  1859.035828   1800   1.103449\n",
       "22          23    2014  2051.350840   2000   1.001844\n",
       "23          24    2015  2055.134175   2000   1.062225\n",
       "24          25    2016  2183.015015   2200         NA"
      ]
     },
     "execution_count": 5,
     "metadata": {},
     "output_type": "execute_result"
    }
   ],
   "source": [
    "#import stock market level\n",
    "df=pd.read_csv(\"simulation_data/avgsp.csv\", sep=\",\")\n",
    "state_grid = 200.0*np.arange(2,11)\n",
    "lsg = len(state_grid)\n",
    "\n",
    "#assign states to S&P Data\n",
    "\n",
    "#round S&P level to nearest grid point\n",
    "df['state'] = [400+200*np.round((sp-400)/200,0) for sp in df['avgsp']]\n",
    "\n",
    "#calculate return\n",
    "df['return'] = [df['avgsp'][i+1]/df['avgsp'][i] for i in range(len(df)-1)] + ['NA']\n",
    "\n",
    "df"
   ]
  },
  {
   "cell_type": "markdown",
   "metadata": {},
   "source": [
    "## Transition Probabilities between States\n",
    "\n",
    "For now assume transition probabilities according to relative frequency of each state, regardless of current state (conditional and unconditional probabilities are the same)"
   ]
  },
  {
   "cell_type": "code",
   "execution_count": 6,
   "metadata": {},
   "outputs": [],
   "source": [
    "#def myfunc(s):\n",
    " #   for i in range(s):\n",
    "  #      yield np.sum(1*(df['state']==state_grid[i]))/(len(df)-1.00)\n",
    "#\n",
    "\n",
    "#%timeit np.fromiter(myfunc(length), dtype=int)\n",
    "#%timeit\n",
    "state_freq = np.array([np.sum(1*(df['state']==s))/(len(df)-1.00) for s in state_grid])\n",
    "\n",
    "transition_probs = np.tile(state_freq,lsg).reshape(lsg,lsg)"
   ]
  },
  {
   "cell_type": "markdown",
   "metadata": {},
   "source": [
    "## Distribution of Returns by State\n",
    "\n",
    "For now assume expectations over returns are the same in all states."
   ]
  },
  {
   "cell_type": "code",
   "execution_count": 7,
   "metadata": {},
   "outputs": [
    {
     "name": "stdout",
     "output_type": "stream",
     "text": [
      "[[1.24811548 1.03793048 1.05053273 ... 1.13454121 0.82773831 0.93218076]\n",
      " [1.24811548 1.03793048 1.05053273 ... 1.13454121 0.82773831 0.93218076]\n",
      " [1.24811548 1.03793048 1.05053273 ... 1.13454121 0.82773831 0.93218076]\n",
      " ...\n",
      " [1.24811548 1.03793048 1.05053273 ... 1.13454121 0.82773831 0.93218076]\n",
      " [1.24811548 1.03793048 1.05053273 ... 1.13454121 0.82773831 0.93218076]\n",
      " [1.24811548 1.03793048 1.05053273 ... 1.13454121 0.82773831 0.93218076]]\n"
     ]
    }
   ],
   "source": [
    "#Realised returns in S&P Data\n",
    "realis_sp_return = np.array([df['avgsp'][i+1]/df['avgsp'][i] for i in range(len(df)-1)])\n",
    "\n",
    "#Individual Returns: one of the realised returns plus idiosyncratic noise\n",
    "\n",
    "distr_mean_R = np.array(np.random.choice(realis_sp_return,size=n_draws,replace=True))\n",
    "\n",
    "\n",
    "distr_R = distr_mean_R + np.random.uniform(-0.05,+0.05,n_draws)\n",
    "\n",
    "distr_R_states = np.array([distr_R for s in state_grid])\n",
    "print(distr_R_states)"
   ]
  },
  {
   "cell_type": "markdown",
   "metadata": {},
   "source": [
    "## Income Distribution by State"
   ]
  },
  {
   "cell_type": "code",
   "execution_count": 8,
   "metadata": {},
   "outputs": [],
   "source": [
    "y_realis_1 = np.random.lognormal(np.log(150000),np.log(2),np.round(N))\n",
    "\n",
    "state_grid_change = np.array([state_grid[i]/state_grid[0] for i in range(lsg)])\n",
    "\n",
    "#mean wealth\n",
    "#50% of wealth invested in the stock market\n",
    "mean_wealth_state = np.array([75000 + state_grid_change[s]*75000 for s in range(lsg)])\n",
    "\n",
    "y_realis_states = np.array([np.random.lognormal(np.log(mean_wealth_state[s]),np.log(2),np.round(N)) for s in range(lsg)])\n",
    "\n"
   ]
  },
  {
   "cell_type": "code",
   "execution_count": 9,
   "metadata": {},
   "outputs": [
    {
     "data": {
      "text/plain": [
       "<matplotlib.legend.Legend at 0x10928dc90>"
      ]
     },
     "execution_count": 9,
     "metadata": {},
     "output_type": "execute_result"
    },
    {
     "data": {
      "image/png": "[encoded data removed]",
      "text/plain": [
       "<matplotlib.figure.Figure at 0x10928dcd0>"
      ]
     },
     "metadata": {},
     "output_type": "display_data"
    }
   ],
   "source": [
    "fig, ax = plt.subplots()\n",
    "for s in [0,2,5,8]: sns.distplot(y_realis_states[s,:],hist=False, label=\"State %d\" %state_grid[s])\n",
    "ax.set_xlabel(\"Wealth\")\n",
    "ax.set_ylabel(\"Density\")\n",
    "ax.legend(bbox_to_anchor=(1.05, 1), loc=2, borderaxespad=0.)"
   ]
  },
  {
   "cell_type": "markdown",
   "metadata": {},
   "source": [
    "# Bid Function\n",
    "\n",
    "$b_j(y,s) = \\theta y (w_j + \\beta(\\textbf{E}[S_j(y',s') | y-b_j(y,s),s] - \\textbf{E}[B(y',s') | y,s] ))$"
   ]
  },
  {
   "cell_type": "code",
   "execution_count": 10,
   "metadata": {},
   "outputs": [],
   "source": [
    "def bid_fn(f_param,f_set,f_B_next,f_S_next_interp,f_distr_R_states,f_transition_probs):\n",
    "    (f_beta,f_rho,f_w,f_J,f_alpha) = (f_param[0],f_param[1],f_param[2],f_param[3],f_param[4])\n",
    "    (f_y_grid,f_lyg,f_b_grid,f_n_draws,f_state_grid) = (f_set[0],f_set[1],f_set[2],f_set[3],f_set[4])\n",
    "    (f_lyg,f_lbg,f_lsg) = (len(f_y_grid),len(f_b_grid),len(f_state_grid))\n",
    "    distr_y_next_buy = f_beta * f_distr_R_states.reshape(f_lsg,1,f_n_draws,1) * (f_y_grid.reshape(1,f_lyg,1,1) - f_b_grid.reshape(1,1,1,f_lbg)) \n",
    "    ES_buy_per_state = np.array([[np.mean(f_S_next_interp[j,s](distr_y_next_buy[s,:,:,:]), axis=1) for s in range(f_lsg)] for j in range(f_J)]) \n",
    "    ES_buy = np.empty([f_J,f_lsg,f_lyg,f_lbg])\n",
    "    for b in range(f_lbg):\n",
    "        ES_buy[:,:,:,b] = np.array([np.dot(f_transition_probs,ES_buy_per_state[j,:,:,b]) for j in range(f_J)])\n",
    "    error = (f_alpha/(1-f_beta)) * f_y_grid.reshape(1,1,f_lyg,1) * (f_w.reshape(f_J,1,1,1) + f_beta*(ES_buy - f_B_next.reshape(1,f_lsg,f_lyg,1))) - f_b_grid.reshape(1,1,1,f_lbg)\n",
    "    return f_b_grid[np.argmin(error**2,axis=3)]"
   ]
  },
  {
   "cell_type": "markdown",
   "metadata": {},
   "source": [
    "# Simplified bid function\n",
    "As long as the transition probabilities are the same across states,\n",
    "i.e. the stock market is like a random walk, the bid function will be the same in all states.\n",
    "Can see this in the bid function: depends on the state only through conditional expecation"
   ]
  },
  {
   "cell_type": "code",
   "execution_count": 76,
   "metadata": {},
   "outputs": [],
   "source": [
    "def bid_fn_rw(f_param,f_set,f_B_next,f_S_next_interp,f_distr_R,f_transition_probs):\n",
    "    (f_beta,f_rho,f_w,f_J,f_alpha) = (f_param[0],f_param[1],f_param[2],f_param[3],f_param[4])\n",
    "    (f_y_grid,f_lyg,f_b_grid,f_n_draws,f_state_grid) = (f_set[0],f_set[1],f_set[2],f_set[3],f_set[4])\n",
    "    (f_lyg,f_lbg,f_lsg) = (len(f_y_grid),len(f_b_grid),len(f_state_grid))\n",
    "    distr_y_next_buy = f_beta * f_distr_R.reshape(1,f_n_draws,1) * (f_y_grid.reshape(f_lyg,1,1) - f_b_grid.reshape(1,1,f_lbg)) \n",
    "    ES_buy_per_state = np.array([[np.mean(f_S_next_interp[j,s](distr_y_next_buy), axis=1) for s in range(f_lsg)] for j in range(f_J)]) \n",
    "    ES_buy = np.empty([f_J,f_lsg,f_lyg,f_lbg])\n",
    "    for b in range(f_lbg):\n",
    "        ES_buy[:,:,:,b] = np.array([np.dot(f_transition_probs,ES_buy_per_state[j,:,:,b]) for j in range(f_J)])\n",
    "    ES_buy_rw = np.mean(ES_buy,axis=1)\n",
    "    error = (f_alpha/(1-f_beta)) * f_y_grid.reshape(1,f_lyg,1) * (f_w.reshape(f_J,1,1) + f_beta*(ES_buy_rw - np.mean(f_B_next,axis=0).reshape(1,f_lyg,1))) - f_b_grid.reshape(1,1,f_lbg)\n",
    "    return f_b_grid[np.argmin(error**2,axis=2)]"
   ]
  },
  {
   "cell_type": "code",
   "execution_count": 77,
   "metadata": {},
   "outputs": [
    {
     "name": "stdout",
     "output_type": "stream",
     "text": [
      "CPU times: user 53.1 s, sys: 27.3 s, total: 1min 20s\n",
      "Wall time: 1min 20s\n"
     ]
    }
   ],
   "source": [
    "%%time\n",
    "bid1_simpl = bid_fn_rw(f_param,f_set,EB1,S1_interp,distr_R,f_transition_probs)"
   ]
  },
  {
   "cell_type": "code",
   "execution_count": 78,
   "metadata": {},
   "outputs": [],
   "source": [
    "test_distr_y_next_buy = f_beta * f_distr_R.reshape(1,f_n_draws,1) * (f_y_grid.reshape(f_lyg,1,1) - f_b_grid.reshape(1,1,f_lbg)) "
   ]
  },
  {
   "cell_type": "code",
   "execution_count": 80,
   "metadata": {},
   "outputs": [
    {
     "name": "stdout",
     "output_type": "stream",
     "text": [
      "CPU times: user 52.1 s, sys: 25.7 s, total: 1min 17s\n",
      "Wall time: 1min 17s\n"
     ]
    }
   ],
   "source": [
    "%%time\n",
    "test_ES_buy_per_state = np.array([[np.mean(S1_interp[j,s](test_distr_y_next_buy), axis=1) for s in range(f_lsg)] for j in range(f_J)]) "
   ]
  },
  {
   "cell_type": "code",
   "execution_count": 67,
   "metadata": {},
   "outputs": [],
   "source": [
    "ES_buy_test = np.empty([f_J,f_lsg,f_lyg,f_lbg])\n",
    "for b in range(f_lbg):\n",
    "    ES_buy_test[:,:,:,b] = np.array([np.dot(f_transition_probs,test2[j,:,:,b]) for j in range(f_J)])"
   ]
  },
  {
   "cell_type": "code",
   "execution_count": 75,
   "metadata": {},
   "outputs": [
    {
     "data": {
      "text/plain": [
       "(3, 600, 200)"
      ]
     },
     "execution_count": 75,
     "metadata": {},
     "output_type": "execute_result"
    }
   ],
   "source": [
    "ES_buy_test_rw = np.mean(ES_buy_test, axis=1)\n",
    "\n",
    "error_test = (f_alpha/(1-f_beta)) * f_y_grid.reshape(1,f_lyg,1) * (f_w.reshape(f_J,1,1) + f_beta*(ES_buy_test_rw - np.mean(EB1,axis=0).reshape(1,f_lyg,1))) - f_b_grid.reshape(1,1,f_lbg)\n",
    "\n",
    "error_test.shape"
   ]
  },
  {
   "cell_type": "code",
   "execution_count": null,
   "metadata": {},
   "outputs": [],
   "source": []
  },
  {
   "cell_type": "markdown",
   "metadata": {},
   "source": [
    "# Buyer Value Function\n",
    "\n",
    "\\begin{align*}\n",
    "  B_{j}(y,s) =& \\alpha \\text{ln}((1-\\beta) y) + (1-\\sigma \\textbf{Pr}[b_j(y,s)>\\bar{b}_j])\\cdot \\beta \\textbf{E}[B(y',s') | y,s] +\\\\\n",
    "  &\\sigma \\cdot \\int \\Big( \\textbf{1}(b_j(y,s)>\\bar{b}_j) \\big(w_j - \\frac{\\theta}{y} \\bar{b}_j + \\beta  \\textbf{E}[S_j(y',s') | y-\\bar{b}_j,s] \\big) \\Big) dG_{\\bar{b}_j |s} \\\\\n",
    "\\end{align*}\n",
    "\n"
   ]
  },
  {
   "cell_type": "code",
   "execution_count": 11,
   "metadata": {},
   "outputs": [],
   "source": [
    "def fn_B(f_param,f_set,f_B_next,f_S_next_interp,\n",
    "         f_distr_R,f_transition_probs,\n",
    "         bid_now,distr_b_bar_now):\n",
    "    (f_beta,f_rho,f_w,f_J,f_alpha,f_sigma) = (f_param[0],f_param[1],f_param[2],f_param[3],f_param[4],f_param[5])\n",
    "    (f_y_grid,f_lyg,f_b_grid,f_n_draws,f_state_grid) = (f_set[0],f_set[1],f_set[2],f_set[3],f_set[4])\n",
    "    (f_lyg,f_lbg,f_lsg) = (len(f_y_grid),len(f_b_grid),len(f_state_grid))\n",
    "    win_bool = (bid_now.reshape(f_J,f_lsg,f_lyg,1)>distr_b_bar_now.reshape(f_J,f_lsg,1,f_n_draws)) #dimensions: J x states x y_gridpoints x n_draws\n",
    "    win_prob = np.mean(win_bool,axis=3) #dimensions: J x states x y_gridpoints\n",
    "    #V1 = utility of composite good consumption plus continuation value of not winning (if inactive or active but losing the auction)\n",
    "    V1 = (f_alpha*np.log((1-f_beta)*f_y_grid)).reshape(1,1,f_lyg) + (1-f_sigma*win_prob)*f_beta*f_B_next.reshape(1,f_lsg,f_lyg) #dimensions: J x states x y_gridpoints\n",
    "    #distribution of wealth next period after buying\n",
    "    distr_y_next_buy = f_beta * f_distr_R.reshape(1,f_lsg,1,f_n_draws,1) * (f_y_grid.reshape(1,1,f_lyg,1,1) - distr_b_bar_now.reshape(f_J,f_lsg,1,1,f_n_draws)) #dimensions: J x state_gridpoints x y_gridpoints x n_draws (R) x n_draws (b_bar)\n",
    "    ES_buy_per_state = np.array([[np.mean(f_S_next_interp[j,s](distr_y_next_buy[j,s,:,:,:]), axis=1) for s in np.arange(f_lsg)] for j in np.arange(f_J)]) #dimesions: J x state_gridpoints x y_gridpoints x n_draws (b_bar)\n",
    "    #Take expectations over tomorrow's state s' conditional on today's state s\n",
    "    ES_buy = np.empty([f_J,f_lsg,f_lyg,f_n_draws]) #dimensions: J x states x y_gridpoints x n_draws (b_bar)\n",
    "    for b in np.arange(f_n_draws):\n",
    "        ES_buy[:,:,:,b] = np.array([np.dot(f_transition_probs,ES_buy_per_state[j,:,:,b]) for j in np.arange(f_J)]) \n",
    "    V2_per_b_bar = f_w.reshape(f_J,1,1,1) - (f_alpha*distr_b_bar_now.reshape(f_J,f_lsg,1,f_n_draws) / ((1-f_beta) * f_y_grid.reshape(1,1,f_lyg,1))) + f_beta*ES_buy #dimensions: J x states x y_gridpoints x n_draws (b_bar)\n",
    "    V2 = f_sigma*np.mean(win_bool * V2_per_b_bar,axis=3)\n",
    "    return V1 + V2\n",
    "\n",
    "#Dimesions: J x state_gridpoints x y_gridpoints"
   ]
  },
  {
   "cell_type": "markdown",
   "metadata": {},
   "source": [
    "# Seller Value Function\n",
    "\n",
    "\\begin{align*}\n",
    "  S_{j}(y,s) =& \\alpha \\text{ln}((1-\\beta) y) + (1-\\rho_j)\\cdot(w_j + \\beta \\textbf{E}[S_j(y',s') | y,s] ) + \\\\\n",
    "  & \\rho_j \\cdot \\int \\Big( \\text{max}\\{ \\frac{\\theta}{y} b_{j,(2)} + \\textbf{E}[B(y',s') | y+b_{j,(2)},s] ,\\ w_j + \\beta \\textbf{E}[S_j(y',s') | y,s] \\} \\Big) dH_{b_{j,(2)} |s}\n",
    "\\end{align*}\n",
    "\n"
   ]
  },
  {
   "cell_type": "code",
   "execution_count": 12,
   "metadata": {},
   "outputs": [],
   "source": [
    "def fn_S(f_param,f_set,f_B_next_interp,f_S_next_interp,\n",
    "         f_distr_R,f_transition_probs,\n",
    "         distr_b_2_now): #distribution of second highest bid among all active bidders\n",
    "    (f_beta,f_rho,f_w,f_J,f_alpha,f_sigma) = (f_param[0],f_param[1],f_param[2],f_param[3],f_param[4],f_param[5])\n",
    "    (f_y_grid,f_lyg,f_b_grid,f_n_draws,f_state_grid) = (f_set[0],f_set[1],f_set[2],f_set[3],f_set[4])\n",
    "    (f_lyg,f_lbg,f_lsg) = (len(f_y_grid),len(f_b_grid),len(f_state_grid))\n",
    "    distr_y_next = f_beta * f_distr_R.reshape(f_lsg,1,f_n_draws) * f_y_grid.reshape(1,f_lyg,1)  #dimensions: state_gridpoints x y_gridpoints x n_draws    \n",
    "    ES_per_state = np.array([[np.mean(f_S_next_interp[j,s](distr_y_next[s,:,:]), axis=1) for s in np.arange(f_lsg)] for j in np.arange(f_J)]) #dimensions: J x state_gridpoints x y_gridpoints #take expectation over return R\n",
    "    #take expectation over next state\n",
    "    ES = np.array([np.dot(f_transition_probs,ES_per_state[j,:,:]) for j in np.arange(f_J)]) #dimension: J x state_gridpoint x y_gridpoints\n",
    "    #utility of keeping the car\n",
    "    keep = (f_w.reshape(f_J,1,1) + ES) \n",
    "    V1 = (f_alpha*np.log((1-f_beta)*f_y_grid)).reshape(1,1,f_lyg) + (1-f_rho.reshape(f_J,1,1)) * keep\n",
    "    #distribution of wealth next period after selling\n",
    "    distr_y_next_sell = f_beta * f_distr_R.reshape(1,f_lsg,1,f_n_draws,1) * (f_y_grid.reshape(1,1,f_lyg,1,1) + distr_b_2_now.reshape(f_J,f_lsg,1,1,f_n_draws)) #dimensions: J x state_gridpoints x y_gridpoints x n_draws (R) x n_draws (b_2)\n",
    "    EB_sell_per_state = np.array([[[np.mean(f_B_next_interp[k,s](distr_y_next_sell[j,s,:,:,:]), axis=1) for s in np.arange(f_lsg)] for j in np.arange(f_J)] for k in range(f_J)]) #take expectation over return R #dimesions: J x state_gridpoints x y_gridpoints x n_draws (b_2) \n",
    "    #Take expectations over tomorrow's state s' conditional on today's state s\n",
    "    EB_sell = np.empty([f_J,f_lsg,f_lyg,f_n_draws])\n",
    "    for b in np.arange(f_n_draws):\n",
    "        EB_sell[:,:,:,b] = np.array([np.sum([f_rho[k]*np.dot(f_transition_probs,EB_sell_per_state[k,j,:,:,b]) for k in np.arange(f_J)], axis=0) for j in np.arange(f_J)])\n",
    "    #utility of selling the car\n",
    "    sell_per_b_2 = (f_alpha*distr_b_2_now.reshape(f_J,f_lsg,1,f_n_draws) / ((1-f_beta) * f_y_grid.reshape(1,1,f_lyg,1))) + f_beta*EB_sell #dimensions: J x states x y_gridpoints x n_draws (b_bar)\n",
    "    sell = np.mean(sell_per_b_2,axis=3)\n",
    "    V2 = f_rho.reshape(f_J,1,1) * np.max([keep,sell],axis=0)\n",
    "    return V1 + V2\n"
   ]
  },
  {
   "cell_type": "markdown",
   "metadata": {},
   "source": [
    "# Iterate"
   ]
  },
  {
   "cell_type": "code",
   "execution_count": 13,
   "metadata": {},
   "outputs": [],
   "source": [
    "\n",
    "def fn_iterate(f_param,f_set,\n",
    "               B_start,S_start,n_iter,\n",
    "              f_distr_R,f_transition_probs,\n",
    "              f_y_realis,f_rival_bidders_ids,f_active_bidders_ids):\n",
    "    (f_beta,f_rho,f_w,f_J,f_alpha,f_sigma) = (f_param[0],f_param[1],f_param[2],f_param[3],f_param[4],f_param[5])\n",
    "    (f_y_grid,f_lyg,f_b_grid,f_n_draws,f_state_grid) = (f_set[0],f_set[1],f_set[2],f_set[3],f_set[4])\n",
    "    (f_lyg,f_lbg,f_lsg) = (len(f_y_grid),len(f_b_grid),len(f_state_grid))\n",
    "    check = []\n",
    "    bids_iter = []\n",
    "    (B1,S1) = (B_start,S_start)\n",
    "    B1_interp = np.ndarray(shape=(f_J,f_lsg), dtype=interp1d)\n",
    "    S1_interp = np.ndarray(shape=(f_J,f_lsg), dtype=interp1d)\n",
    "    #\n",
    "    for t in np.arange(n_iter):\n",
    "        for ja in np.arange(f_J):\n",
    "            for sa in np.arange(f_lsg):\n",
    "                B1_interp[ja][sa]= interp1d(y_grid,B1[ja,sa,:],fill_value='extrapolate')\n",
    "                S1_interp[ja][sa]= interp1d(y_grid,S1[ja,sa,:],fill_value='extrapolate')\n",
    "        #B1_interp = np.array([[interp1d(y_grid,B1[j,s,:],fill_value='extrapolate') for s in np.arange(f_lsg)] for j in np.arange(f_J)]) #one function for each car j and each state s\n",
    "        #S1_interp = np.array([[interp1d(y_grid,S1[j,s,:],fill_value='extrapolate') for s in np.arange(f_lsg)] for j in np.arange(f_J)]) \n",
    "        #initial expected continuation value as buyer\n",
    "        distr_y_next = beta * f_distr_R.reshape(f_lsg,1,f_n_draws) * f_y_grid.reshape(1,f_lyg,1) #dimensions: state_gridpoints x y_gridpoints x n_draws\n",
    "        EB_per_state_1 = np.array([[np.mean(B1_interp[j,s](distr_y_next[s,:,:]), axis=1) for s in np.arange(f_lsg)] for j in np.arange(J)]) \n",
    "        EB1 = np.sum([f_rho[j]*np.dot(f_transition_probs,EB_per_state_1[j,:,:]) for j in np.arange(f_J)],axis=0) #dimension: state_gridpoint x y_gridpoints\n",
    "        #bid function\n",
    "        bid1 = bid_fn(f_param,f_set,EB1,S1_interp,f_distr_R,f_transition_probs)\n",
    "        #distribution of highest rival bid\n",
    "        distr_bids1 = np.array([[np.interp(f_y_realis[s,:],f_y_grid,bid1[j,s,:]) for s in np.arange(f_lsg)] for j in np.arange(f_J)])\n",
    "        distr_b_bar_1 = np.array([[[np.sort(distr_bids1[j,s,f_rival_bidders_ids[i]])[-1] for i in np.arange(f_n_draws)] for s in np.arange(f_lsg)] for j in np.arange(f_J)])\n",
    "        #next iteration of buyer value function\n",
    "        B2 = fn_B(f_param,f_set,EB1,S1_interp,f_distr_R,f_transition_probs,bid1,distr_b_bar_1)\n",
    "        #distribution of 2nd highest bid (sale price)\n",
    "        distr_b_2 = np.array([[[np.sort(distr_bids1[j,s,f_active_bidders_ids[i]])[-2] for i in np.arange(f_n_draws)] for s in np.arange(f_lsg)] for j in np.arange(f_J)])\n",
    "        #next iteration of seller value function\n",
    "        S2 = fn_S(f_param,f_set,B1_interp,S1_interp,f_distr_R,f_transition_probs,distr_b_2)\n",
    "        check = check + [np.max(np.absolute(B2-B1))]\n",
    "        bids_iter = bids_iter + [bid1]\n",
    "        (B1,S1) = (B2,S2)\n",
    "    return [check,bids_iter,B1,S1]\n"
   ]
  },
  {
   "cell_type": "markdown",
   "metadata": {},
   "source": [
    "Made for test run "
   ]
  },
  {
   "cell_type": "code",
   "execution_count": 16,
   "metadata": {},
   "outputs": [],
   "source": [
    "param1 = [beta,rho,w,J,alpha,sigma]\n",
    "set1 = [y_grid,lyg,b_grid,n_draws,state_grid]  \n",
    "\n",
    "B_cont = (1/(1-beta))*  (alpha*np.log((1-beta)*y_grid) + np.zeros(len(w)*state_grid.shape[0]*len(y_grid)).reshape(len(w),state_grid.shape[0],len(y_grid)))\n",
    "S_cont = (1/(1-beta))* (alpha*np.log((1-beta)*y_grid) + np.array(np.repeat(w,state_grid.shape[0]*len(y_grid))).reshape(len(w),state_grid.shape[0],len(y_grid)))\n",
    "\n",
    "#every one of N potential bidders has probability sigma of being active -- if m bidders are active, there are m-1 rivals\n",
    "rival_bidders = np.random.binomial(N,sigma,size=n_draws) - 1\n",
    "rival_bidders_ids = np.array([np.random.choice(N,size=rival_bidders[i], replace=False) for i in np.arange(n_draws)]) #dimensions: n_draws\n",
    "\n",
    "#every one of N potential bidders has probability sigma of being active\n",
    "active_bidders = np.random.binomial(N,sigma,size=n_draws)\n",
    "active_bidders_ids = np.array([np.random.choice(N,size=active_bidders[i], replace=False) for i in np.arange(n_draws)])\n",
    "\n",
    "f_param = param1\n",
    "f_set = set1\n",
    "B_start = B_cont\n",
    "S_start = S_cont\n",
    "n_iter = 2\n",
    "f_distr_R_states = distr_R_states\n",
    "f_distr_R = distr_R\n",
    "f_transition_probs = transition_probs\n",
    "f_y_realis = y_realis_states\n",
    "f_rival_bidders_ids=rival_bidders_ids\n",
    "f_active_bidders_ids = active_bidders_ids\n",
    "(f_beta,f_rho,f_w,f_J,f_alpha,f_sigma) = (f_param[0],f_param[1],f_param[2],f_param[3],f_param[4],f_param[5])\n",
    "(f_y_grid,f_lyg,f_b_grid,f_n_draws,f_state_grid) = (f_set[0],f_set[1],f_set[2],f_set[3],f_set[4])\n",
    "(f_lyg,f_lbg,f_lsg) = (len(f_y_grid),len(f_b_grid),len(f_state_grid))\n",
    "check = []\n",
    "bids_iter = []\n",
    "(B1,S1) = (B_start,S_start)\n",
    "\n",
    "B1_interp = np.array([[interp1d(y_grid,B1[j,s,:],fill_value='extrapolate') for s in np.arange(f_lsg)] for j in np.arange(f_J)])\n",
    "#print(B1_interp)\n",
    "        \n",
    "S1_interp = np.array([[interp1d(y_grid,S1[j,s,:],fill_value='extrapolate') for s in np.arange(f_lsg)] for j in np.arange(f_J)])"
   ]
  },
  {
   "cell_type": "code",
   "execution_count": 21,
   "metadata": {},
   "outputs": [],
   "source": [
    "distr_y_next = beta * f_distr_R_states.reshape(f_lsg,1,f_n_draws) * f_y_grid.reshape(1,f_lyg,1) #dimensions: state_gridpoints x y_gridpoints x n_draws\n",
    "EB_per_state_1 = np.array([[np.mean(B1_interp[j,s](distr_y_next[s,:,:]), axis=1) for s in np.arange(f_lsg)] for j in np.arange(J)]) \n",
    "EB1 = np.sum([f_rho[j]*np.dot(f_transition_probs,EB_per_state_1[j,:,:]) for j in np.arange(f_J)],axis=0) #dimension: state_gridpoint x y_gridpoints"
   ]
  },
  {
   "cell_type": "code",
   "execution_count": 29,
   "metadata": {},
   "outputs": [
    {
     "name": "stdout",
     "output_type": "stream",
     "text": [
      "CPU times: user 56.5 s, sys: 29.4 s, total: 1min 25s\n",
      "Wall time: 1min 29s\n"
     ]
    }
   ],
   "source": [
    "%%time\n",
    "bid1 = bid_fn(f_param,f_set,EB1,S1_interp,f_distr_R,f_transition_probs)"
   ]
  },
  {
   "cell_type": "code",
   "execution_count": 30,
   "metadata": {},
   "outputs": [
    {
     "name": "stdout",
     "output_type": "stream",
     "text": [
      "CPU times: user 1min 5s, sys: 35.8 s, total: 1min 41s\n",
      "Wall time: 1min 48s\n"
     ]
    }
   ],
   "source": [
    "%%time\n",
    "distr_bids1 = np.array([[np.interp(f_y_realis[s,:],f_y_grid,bid1[j,s,:]) for s in np.arange(f_lsg)] for j in np.arange(f_J)])\n",
    "distr_b_bar_1 = np.array([[[np.sort(distr_bids1[j,s,f_rival_bidders_ids[i]])[-1] for i in np.arange(f_n_draws)] for s in np.arange(f_lsg)] for j in np.arange(f_J)])\n",
    "#next iteration of buyer value function\n",
    "B2 = fn_B(f_param,f_set,EB1,S1_interp,f_distr_R,f_transition_probs,bid1,distr_b_bar_1)"
   ]
  },
  {
   "cell_type": "code",
   "execution_count": 45,
   "metadata": {},
   "outputs": [
    {
     "data": {
      "text/plain": [
       "<matplotlib.legend.Legend at 0x108b059d0>"
      ]
     },
     "execution_count": 45,
     "metadata": {},
     "output_type": "execute_result"
    },
    {
     "data": {
      "image/png": "[encoded data removed]",
      "text/plain": [
       "<matplotlib.figure.Figure at 0x108b05610>"
      ]
     },
     "metadata": {},
     "output_type": "display_data"
    }
   ],
   "source": [
    "bid_test.shape\n",
    "bid1.shape\n",
    "\n",
    "fig, ax = plt.subplots()\n",
    "for j in [0,1,2]:\n",
    "    ax.plot(y_grid,bid1[j,0,:], label=\"$b_%d(y,0)\" %j)\n",
    "for j in [0,1,2]:\n",
    "    ax.plot(y_grid,bid_test[j,0,:], label=\"$b_%d(y,0)\" %j)\n",
    "#for j in [1,2]:\n",
    "#    ax.plot(y_grid,sim_output[1][1][j,4,:], label=\"$b_%d(y,8)\" %j)\n",
    "#for j in [1,2]:\n",
    "#    ax.plot(y_grid,sim_output[1][1][j,8,:], label=\"$b_%d(y,8)\" %j)\n",
    "ax.set_xlabel(\"Wealth\")\n",
    "ax.set_ylabel(\"Bid\")\n",
    "ax.legend(bbox_to_anchor=(1.05, 1), loc=2, borderaxespad=0.)"
   ]
  },
  {
   "cell_type": "markdown",
   "metadata": {},
   "source": [
    "# Initialize\n",
    "\n",
    "Initialize Buyer value to $B_{j}(y,s) = \\frac{1}{1-\\beta} \\alpha \\text{ln}((1-\\beta)y)$\n",
    "\n",
    "And seller value to $S_j(y,s)= \\frac{1}{1-\\beta}(\\alpha \\text{ln}((1-\\beta)y) + w_j)$"
   ]
  },
  {
   "cell_type": "code",
   "execution_count": 18,
   "metadata": {},
   "outputs": [],
   "source": [
    "B1 = (1/(1-beta))*  (alpha*np.log((1-beta)*y_grid) + np.zeros(len(w)*state_grid.shape[0]*len(y_grid)).reshape(len(w),state_grid.shape[0],len(y_grid)))\n",
    "S1 = (1/(1-beta))* (alpha*np.log((1-beta)*y_grid) + np.array(np.repeat(w,state_grid.shape[0]*len(y_grid))).reshape(len(w),state_grid.shape[0],len(y_grid)))"
   ]
  },
  {
   "cell_type": "markdown",
   "metadata": {},
   "source": [
    "# Run"
   ]
  },
  {
   "cell_type": "code",
   "execution_count": 91,
   "metadata": {},
   "outputs": [
    {
     "name": "stdout",
     "output_type": "stream",
     "text": [
      "Wall time: 11min 24s\n",
      "time: 11min 26s\n"
     ]
    }
   ],
   "source": [
    "%%time\n",
    "\n",
    "#initial value functions\n",
    "B_cont = B1\n",
    "S_cont = S1\n",
    "\n",
    "#every one of N potential bidders has probability sigma of being active -- if m bidders are active, there are m-1 rivals\n",
    "rival_bidders = np.random.binomial(N,sigma,size=n_draws) - 1\n",
    "rival_bidders_ids = np.array([np.random.choice(N,size=rival_bidders[i], replace=False) for i in np.arange(n_draws)]) #dimensions: n_draws\n",
    "\n",
    "#every one of N potential bidders has probability sigma of being active\n",
    "active_bidders = np.random.binomial(N,sigma,size=n_draws)\n",
    "active_bidders_ids = np.array([np.random.choice(N,size=active_bidders[i], replace=False) for i in np.arange(n_draws)])\n",
    "#dimensions: n_draws\n",
    "\n",
    "param1 = [beta,rho,w,J,alpha,sigma]\n",
    "set1 = [y_grid,lyg,b_grid,n_draws,state_grid]    \n",
    "\n",
    "sim_output = fn_iterate(f_param = param1,f_set = set1,\n",
    "                    B_start = B_cont,S_start = S_cont, n_iter = 2,\n",
    "                    f_distr_R = distr_R_states,f_transition_probs = transition_probs,\n",
    "                    f_y_realis = y_realis_states,\n",
    "                    f_rival_bidders_ids=rival_bidders_ids, f_active_bidders_ids = active_bidders_ids)\n",
    "\n",
    "#check,bids_iter,B1,S1"
   ]
  },
  {
   "cell_type": "code",
   "execution_count": 24,
   "metadata": {},
   "outputs": [
    {
     "data": {
      "text/plain": [
       "<matplotlib.legend.Legend at 0x10a6d3f90>"
      ]
     },
     "execution_count": 24,
     "metadata": {},
     "output_type": "execute_result"
    },
    {
     "data": {
      "image/png": "[encoded data removed]",
      "text/plain": [
       "<matplotlib.figure.Figure at 0x10a7451d0>"
      ]
     },
     "metadata": {},
     "output_type": "display_data"
    }
   ],
   "source": [
    "fig, ax = plt.subplots()\n",
    "for j in [0,1,2]:\n",
    "    ax.plot(y_grid,sim_output[1][1][j,0,:], label=\"$b_%d(y,0)\" %j)\n",
    "#for j in [1,2]:\n",
    "#    ax.plot(y_grid,sim_output[1][1][j,4,:], label=\"$b_%d(y,8)\" %j)\n",
    "#for j in [1,2]:\n",
    "#    ax.plot(y_grid,sim_output[1][1][j,8,:], label=\"$b_%d(y,8)\" %j)\n",
    "ax.set_xlabel(\"Wealth\")\n",
    "ax.set_ylabel(\"Bid\")\n",
    "ax.legend(bbox_to_anchor=(1.05, 1), loc=2, borderaxespad=0.)"
   ]
  },
  {
   "cell_type": "code",
   "execution_count": 26,
   "metadata": {},
   "outputs": [],
   "source": [
    "distr_bids1 = np.array([[np.interp(y_realis_states[s,:],y_grid,sim_output[1][1][j,s,:]) for s in range(lsg)] for j in range(J)])\n",
    "distr_b_2 = np.array([[[np.sort(distr_bids1[j,s,active_bidders_ids[i]])[-2] for i in range(n_draws)] for s in range(lsg)] for j in range(J)])"
   ]
  },
  {
   "cell_type": "code",
   "execution_count": 27,
   "metadata": {},
   "outputs": [
    {
     "data": {
      "text/plain": [
       "(3, 9, 200)"
      ]
     },
     "execution_count": 27,
     "metadata": {},
     "output_type": "execute_result"
    }
   ],
   "source": [
    "distr_b_2.shape"
   ]
  },
  {
   "cell_type": "code",
   "execution_count": 28,
   "metadata": {},
   "outputs": [
    {
     "data": {
      "text/plain": [
       "<matplotlib.legend.Legend at 0x10a720790>"
      ]
     },
     "execution_count": 28,
     "metadata": {},
     "output_type": "execute_result"
    },
    {
     "data": {
      "image/png": "[encoded data removed]",
      "text/plain": [
       "<matplotlib.figure.Figure at 0x10a720bd0>"
      ]
     },
     "metadata": {},
     "output_type": "display_data"
    }
   ],
   "source": [
    "fig, ax = plt.subplots()\n",
    "for s in [0,2,5,8]:\n",
    "    sns.distplot(distr_b_2[1,s,:],hist=False, label=\"State %d\" %state_grid[s])\n",
    "ax.set_xlabel(\"Wealth\")\n",
    "ax.set_ylabel(\"Density\")\n",
    "ax.legend(bbox_to_anchor=(1.05, 1), loc=2, borderaxespad=0.)"
   ]
  },
  {
   "cell_type": "code",
   "execution_count": 29,
   "metadata": {},
   "outputs": [
    {
     "data": {
      "text/plain": [
       "<matplotlib.legend.Legend at 0x10aaa1450>"
      ]
     },
     "execution_count": 29,
     "metadata": {},
     "output_type": "execute_result"
    },
    {
     "data": {
      "image/png": "[encoded data removed]",
      "text/plain": [
       "<matplotlib.figure.Figure at 0x10aaa1190>"
      ]
     },
     "metadata": {},
     "output_type": "display_data"
    }
   ],
   "source": [
    "fig, ax = plt.subplots()\n",
    "for j in [0,1,2]:\n",
    "    sns.distplot(distr_b_2[j,5,:],hist=False, label=\"Car %d\" %j)\n",
    "ax.set_xlabel(\"Wealth\")\n",
    "ax.set_ylabel(\"Density\")\n",
    "ax.legend(bbox_to_anchor=(1.05, 1), loc=2, borderaxespad=0.)"
   ]
  },
  {
   "cell_type": "code",
   "execution_count": 30,
   "metadata": {},
   "outputs": [],
   "source": [
    "E_price = np.mean(distr_b_2,axis=2)"
   ]
  },
  {
   "cell_type": "code",
   "execution_count": 35,
   "metadata": {},
   "outputs": [
    {
     "data": {
      "text/plain": [
       "<matplotlib.legend.Legend at 0x10ae65410>"
      ]
     },
     "execution_count": 35,
     "metadata": {},
     "output_type": "execute_result"
    },
    {
     "data": {
      "image/png": "[encoded data removed]",
      "text/plain": [
       "<matplotlib.figure.Figure at 0x10ac81dd0>"
      ]
     },
     "metadata": {},
     "output_type": "display_data"
    }
   ],
   "source": [
    "fig, ax = plt.subplots()\n",
    "for j in [0,1,2]:\n",
    "    ax.plot(state_grid,E_price[j,:], label=\"E_price %d\" %j)\n",
    "ax.set_xlabel(\"State\")\n",
    "ax.set_ylabel(\"Expected Price\")\n",
    "ax.legend(bbox_to_anchor=(1.05, 1), loc=2, borderaxespad=0.)"
   ]
  },
  {
   "cell_type": "markdown",
   "metadata": {},
   "source": [
    "## ------------------------------------------------------------------------------------\n",
    "## New Approach\n",
    "## ------------------------------------------------------------------------------------\n",
    "\n",
    "Interpolate EB and ES in addition to interpolate B and S. Saves time by saving on many MC integrations."
   ]
  },
  {
   "cell_type": "code",
   "execution_count": 41,
   "metadata": {},
   "outputs": [
    {
     "name": "stdout",
     "output_type": "stream",
     "text": [
      "CPU times: user 7.21 ms, sys: 3.72 ms, total: 10.9 ms\n",
      "Wall time: 10.7 ms\n"
     ]
    }
   ],
   "source": [
    "%%time\n",
    "\n",
    "#calculate EB1 first and interpolate\n",
    "B1 = (1/(1-beta))*  (alpha*np.log((1-beta)*y_grid) + np.zeros(len(w)*state_grid.shape[0]*len(y_grid)).reshape(len(w),state_grid.shape[0],len(y_grid)))\n",
    "S1 = (1/(1-beta))* (alpha*np.log((1-beta)*y_grid) + np.array(np.repeat(w,state_grid.shape[0]*len(y_grid))).reshape(len(w),state_grid.shape[0],len(y_grid)))\n",
    "\n",
    "distr_y_next = beta * f_distr_R_states.reshape(f_lsg,1,f_n_draws) * f_y_grid.reshape(1,f_lyg,1) #dimensions: state_gridpoints x y_gridpoints x n_draws\n",
    "\n",
    "B1_interp = np.array([[interp1d(y_grid,B1[j,s,:],fill_value='extrapolate') for s in np.arange(f_lsg)] for j in np.arange(f_J)])\n",
    "S1_interp = np.array([[interp1d(y_grid,S1[j,s,:],fill_value='extrapolate') for s in np.arange(f_lsg)] for j in np.arange(f_J)])\n"
   ]
  },
  {
   "cell_type": "code",
   "execution_count": 39,
   "metadata": {},
   "outputs": [
    {
     "name": "stdout",
     "output_type": "stream",
     "text": [
      "CPU times: user 296 ms, sys: 2.85 ms, total: 299 ms\n",
      "Wall time: 299 ms\n"
     ]
    }
   ],
   "source": [
    "%%time\n",
    "EB_per_state_1 = np.array([[np.mean(B1_interp[j,s](distr_y_next[s,:,:]), axis=1) for s in np.arange(f_lsg)] for j in np.arange(J)]) #dimenstions: J x states x y\n",
    "EB1 = np.sum([f_rho[j]*np.dot(f_transition_probs,EB_per_state_1[j,:,:]) for j in np.arange(f_J)],axis=0) #dimensions: states x y\n",
    "EB1_interp = np.array([interp1d(y_grid,EB1[s,:], fill_value='extrapolate') for s in np.arange(f_lsg)]) #dimesions: states"
   ]
  },
  {
   "cell_type": "code",
   "execution_count": 40,
   "metadata": {},
   "outputs": [
    {
     "name": "stdout",
     "output_type": "stream",
     "text": [
      "CPU times: user 305 ms, sys: 2.97 ms, total: 307 ms\n",
      "Wall time: 308 ms\n"
     ]
    }
   ],
   "source": [
    "%%time\n",
    "ES_per_state_1 = np.array([[np.mean(S1_interp[j,s](distr_y_next[s,:,:]),axis=1) for s in np.arange(f_lsg)] for j in np.arange(J)]) #dimenstions: J x states x y\n",
    "ES1 = np.array([np.dot(f_transition_probs,ES_per_state_1[j,:,:]) for j in np.arange(f_J)])\n",
    "ES1_interp = np.array([[interp1d(y_grid,ES1[j,s,:], fill_value='extrapolate') for s in np.arange(f_lsg)] for j in np.arange(J)]) #dimenstions: J x states"
   ]
  },
  {
   "cell_type": "code",
   "execution_count": 75,
   "metadata": {},
   "outputs": [
    {
     "name": "stdout",
     "output_type": "stream",
     "text": [
      "CPU times: user 282 ms, sys: 46.7 ms, total: 329 ms\n",
      "Wall time: 331 ms\n"
     ]
    }
   ],
   "source": [
    "%%time\n",
    "\n",
    "y_buy = y_grid.reshape(f_lyg,1) - b_grid.reshape(1,f_lbg)\n",
    "ES_buy = np.array([[ES1_interp[j,s](y_buy) for s in np.arange(f_lsg)] for j in np.arange(J)])\n",
    "error = (f_alpha/(1-f_beta)) * f_y_grid.reshape(1,1,f_lyg,1) * (f_w.reshape(f_J,1,1,1) + f_beta*(ES_buy - EB1.reshape(1,f_lsg,f_lyg,1))) - f_b_grid.reshape(1,1,1,f_lbg)\n",
    "bid1 = f_b_grid[np.argmin(error**2,axis=3)]"
   ]
  },
  {
   "cell_type": "code",
   "execution_count": 68,
   "metadata": {},
   "outputs": [
    {
     "data": {
      "text/plain": [
       "(3, 9, 600, 200)"
      ]
     },
     "execution_count": 68,
     "metadata": {},
     "output_type": "execute_result"
    }
   ],
   "source": [
    "ES_buy.shape"
   ]
  },
  {
   "cell_type": "code",
   "execution_count": 76,
   "metadata": {},
   "outputs": [
    {
     "data": {
      "text/plain": [
       "<matplotlib.legend.Legend at 0x10b0ab2d0>"
      ]
     },
     "execution_count": 76,
     "metadata": {},
     "output_type": "execute_result"
    },
    {
     "data": {
      "image/png": "[encoded data removed]",
      "text/plain": [
       "<matplotlib.figure.Figure at 0x109298050>"
      ]
     },
     "metadata": {},
     "output_type": "display_data"
    }
   ],
   "source": [
    "fig, ax = plt.subplots()\n",
    "for j in [0,1,2]:\n",
    "    ax.plot(y_grid,bid1[j,0,:], label=\"$b_%d(y,0)\" %j)\n",
    "#for j in [1,2]:\n",
    "#    ax.plot(y_grid,sim_output[1][1][j,4,:], label=\"$b_%d(y,8)\" %j)\n",
    "#for j in [1,2]:\n",
    "#    ax.plot(y_grid,sim_output[1][1][j,8,:], label=\"$b_%d(y,8)\" %j)\n",
    "ax.set_xlabel(\"Wealth\")\n",
    "ax.set_ylabel(\"Bid\")\n",
    "ax.legend(bbox_to_anchor=(1.05, 1), loc=2, borderaxespad=0.)"
   ]
  },
  {
   "cell_type": "code",
   "execution_count": 85,
   "metadata": {},
   "outputs": [],
   "source": [
    "def bid_fn2(f_param,f_set,f_EB,f_ES_interp):\n",
    "    (f_beta,f_rho,f_w,f_J,f_alpha) = (f_param[0],f_param[1],f_param[2],f_param[3],f_param[4])\n",
    "    (f_y_grid,f_lyg,f_b_grid,f_n_draws,f_state_grid) = (f_set[0],f_set[1],f_set[2],f_set[3],f_set[4])\n",
    "    (f_lyg,f_lbg,f_lsg) = (len(f_y_grid),len(f_b_grid),len(f_state_grid))\n",
    "    y_buy = y_grid.reshape(f_lyg,1) - b_grid.reshape(1,f_lbg)\n",
    "    ES_buy = np.array([[f_ES_interp[j,s](y_buy) for s in np.arange(f_lsg)] for j in np.arange(f_J)])\n",
    "    error = (f_alpha/(1-f_beta)) * f_y_grid.reshape(1,1,f_lyg,1) * (f_w.reshape(f_J,1,1,1) + f_beta*(ES_buy - f_EB.reshape(1,f_lsg,f_lyg,1))) - f_b_grid.reshape(1,1,1,f_lbg)\n",
    "    return f_b_grid[np.argmin(error**2,axis=3)]"
   ]
  },
  {
   "cell_type": "code",
   "execution_count": 86,
   "metadata": {},
   "outputs": [
    {
     "name": "stdout",
     "output_type": "stream",
     "text": [
      "CPU times: user 287 ms, sys: 64.8 ms, total: 351 ms\n",
      "Wall time: 359 ms\n"
     ]
    }
   ],
   "source": [
    "%%time\n",
    "\n",
    "bid2 = bid_fn2(param1,set1,EB1,ES1_interp)"
   ]
  },
  {
   "cell_type": "code",
   "execution_count": null,
   "metadata": {},
   "outputs": [],
   "source": [
    "## Next\n",
    "## adapt fn_B and fn_S to use EB_interp and ES_interp"
   ]
  },
  {
   "cell_type": "code",
   "execution_count": null,
   "metadata": {},
   "outputs": [],
   "source": []
  }
 ],
 "metadata": {
  "kernelspec": {
   "display_name": "Python 3",
   "language": "python",
   "name": "python3"
  },
  "language_info": {
   "codemirror_mode": {
    "name": "ipython",
    "version": 2
   },
   "file_extension": ".py",
   "mimetype": "text/x-python",
   "name": "python",
   "nbconvert_exporter": "python",
   "pygments_lexer": "ipython2",
   "version": "2.7.13"
  }
 },
 "nbformat": 4,
 "nbformat_minor": 2
}
