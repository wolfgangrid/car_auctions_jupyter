{
 "cells": [
  {
   "cell_type": "code",
   "execution_count": 1,
   "metadata": {},
   "outputs": [
    {
     "data": {
      "text/plain": [
       "'\\nSimulation Code\\nWritten by Wolfgang Ridinger and Chaitanya Baweja\\nDependencies:\\nMention Files\\n'"
      ]
     },
     "execution_count": 1,
     "metadata": {},
     "output_type": "execute_result"
    }
   ],
   "source": [
    "'''\n",
    "Simulation Code\n",
    "Written by Wolfgang Ridinger and Chaitanya Baweja\n",
    "Dependencies:\n",
    "Mention Files\n",
    "'''"
   ]
  },
  {
   "cell_type": "code",
   "execution_count": 4,
   "metadata": {},
   "outputs": [],
   "source": [
    "import numpy as np\n",
    "#from scipy import interpolate\n",
    "from scipy.interpolate import interp1d\n",
    "import pandas as pd\n",
    "import matplotlib.pyplot as plt\n",
    "import seaborn as sns\n",
    "import scipy.optimize\n",
    "from bayes_opt import BayesianOptimization\n",
    "import time\n",
    "import argparse\n",
    "%run car_auctions_jupyter.py\n"
   ]
  },
  {
   "cell_type": "code",
   "execution_count": null,
   "metadata": {},
   "outputs": [],
   "source": [
    "\n",
    "#Setting notebook parameters\n",
    "np.random.seed(2)\n",
    "\n",
    "# use sklearn's default parameters for theta and random_start\n",
    "gp_params = {\"alpha\": 1e-5, \"n_restarts_optimizer\": 2}\n",
    "\n",
    "#%load_ext autotime\n",
    "\n",
    "%matplotlib inline"
   ]
  },
  {
   "cell_type": "code",
   "execution_count": null,
   "metadata": {},
   "outputs": [],
   "source": [
    "\n",
    "##\n",
    "# Grids\n",
    "##\n",
    "\n",
    "#y_grid basically denote individual wealth levels\n",
    "#We create a grid so that we can find an approximate function\n",
    "y_grid = 100000 + 5000*np.arange(400)\n",
    "#required for use in functions\n",
    "y_grid = y_grid.reshape(400)\n",
    "\n",
    "#b_grid denotes\n",
    "b_grid = 20000 + 5000*np.arange(0,600)\n",
    "\n",
    "lyg = len(y_grid) \n",
    "\n",
    "#lbg = len(b_grid)\n"
   ]
  },
  {
   "cell_type": "code",
   "execution_count": null,
   "metadata": {},
   "outputs": [],
   "source": [
    "\n",
    "##\n",
    "# Parameters\n",
    "##\n",
    "#Why is parameter of beta set to 0.95 \n",
    "beta = 0.95 #discount factor\n",
    "alpha = 10 #parameter for value function\n",
    "#Check if w is required later on\n",
    "w = np.array([1,2,4])\n",
    "#better way\n",
    "param = np.array([alpha,1,2,4])\n",
    "J = len(w)\n",
    "#what is rho\n",
    "rho = np.ones(np.shape(w))/np.shape(w)\n",
    "#should cars be picked at random or based on seller interest, won't it based on seller conditions\n",
    "sigma=0.1 #probability of a seller being picked\n",
    "n_draws = 200\n",
    "#WHat is N\n",
    "N = 100\n",
    "#b = 0.1\n"
   ]
  },
  {
   "cell_type": "markdown",
   "metadata": {},
   "source": [
    "# States"
   ]
  },
  {
   "cell_type": "code",
   "execution_count": null,
   "metadata": {},
   "outputs": [],
   "source": [
    "#import stock market level\n",
    "df=pd.read_csv(\"simulation_data/avgsp.csv\", sep=\",\")\n",
    "state_grid = 200.0*np.arange(2,11)\n",
    "lsg = len(state_grid)\n",
    "\n",
    "#assign states to S&P Data\n",
    "\n",
    "#round S&P level to nearest grid point\n",
    "df['state'] = [400+200*np.round((sp-400)/200,0) for sp in df['avgsp']]\n",
    "\n",
    "#calculate return\n",
    "df['return'] = [df['avgsp'][i+1]/df['avgsp'][i] for i in range(len(df)-1)] + ['NA']\n",
    "\n",
    "df"
   ]
  },
  {
   "cell_type": "markdown",
   "metadata": {},
   "source": [
    "## Transition Probabilities between States\n",
    "\n",
    "For now assume transition probabilities according to relative frequency of each state, regardless of current state (conditional and unconditional probabilities are the same)"
   ]
  },
  {
   "cell_type": "code",
   "execution_count": null,
   "metadata": {},
   "outputs": [],
   "source": [
    "state_freq = np.array([np.sum(1*(df['state']==s))/(len(df)-1.00) for s in state_grid])\n",
    "transition_probs = np.tile(state_freq,lsg).reshape(lsg,lsg)"
   ]
  },
  {
   "cell_type": "markdown",
   "metadata": {},
   "source": [
    "## Distribution of Returns by State\n",
    "\n",
    "For now assume expectations over returns are the same in all states."
   ]
  },
  {
   "cell_type": "code",
   "execution_count": null,
   "metadata": {},
   "outputs": [],
   "source": [
    "#Realised returns in S&P Data\n",
    "realis_sp_return = np.array([df['avgsp'][i+1]/df['avgsp'][i] for i in range(len(df)-1)])\n",
    "\n",
    "#Individual Returns: one of the realised returns plus idiosyncratic noise\n",
    "np.random.seed(3)\n",
    "distr_mean_R = np.array(np.random.choice(realis_sp_return,size=n_draws,replace=True))\n",
    "np.random.seed(2)\n",
    "#question: is it a good idea to add uniform idiosyncratic noise, rather than a normal one \n",
    "distr_R = distr_mean_R + np.random.uniform(-0.05,+0.05,n_draws)\n",
    "\n",
    "distr_R_states = np.array([distr_R for s in state_grid])\n",
    "#distr_R_states"
   ]
  },
  {
   "cell_type": "code",
   "execution_count": null,
   "metadata": {},
   "outputs": [],
   "source": [
    "np.mean(distr_R)"
   ]
  },
  {
   "cell_type": "markdown",
   "metadata": {},
   "source": [
    "## Income Distribution by State"
   ]
  },
  {
   "cell_type": "code",
   "execution_count": null,
   "metadata": {},
   "outputs": [],
   "source": [
    "np.random.seed(2)\n",
    "#why is this required\n",
    "y_realis_1 = np.random.lognormal(np.log(150000),np.log(2),np.round(N))\n",
    "\n",
    "state_grid_change = np.array([state_grid[i]/state_grid[0] for i in range(lsg)])\n",
    "\n",
    "#mean wealth\n",
    "#50% of wealth invested in the stock market\n",
    "#This is very weird implementation, this actually might be an error \n",
    "mean_wealth_state = np.array([75000 + state_grid_change[s]*75000 for s in range(lsg)])\n",
    "np.random.seed(4)\n",
    "y_realis_states = np.array([np.random.lognormal(np.log(mean_wealth_state[s]),np.log(2),np.round(N)) for s in range(lsg)])\n",
    "\n"
   ]
  },
  {
   "cell_type": "code",
   "execution_count": null,
   "metadata": {},
   "outputs": [],
   "source": [
    "fig, ax = plt.subplots()\n",
    "for s in [0,2,5,8]: sns.distplot(y_realis_states[s,:],hist=False, label=\"State %d\" %state_grid[s])\n",
    "ax.set_xlabel(\"Wealth\")\n",
    "ax.set_ylabel(\"Density\")\n",
    "ax.legend(bbox_to_anchor=(1.05, 1), loc=2, borderaxespad=0.)"
   ]
  },
  {
   "cell_type": "markdown",
   "metadata": {},
   "source": [
    "# Bid Function\n",
    "\n",
    "$b_j(y,s) = \\theta y (w_j + \\beta(\\textbf{E}[S_j(y',s') | y-b_j(y,s),s] - \\textbf{E}[B(y',s') | y,s] ))$"
   ]
  },
  {
   "cell_type": "markdown",
   "metadata": {},
   "source": [
    "# Buyer Value Function\n",
    "\n",
    "\\begin{align*}\n",
    "  B_{j}(y,s) =& \\alpha \\text{ln}((1-\\beta) y) + (1-\\sigma \\textbf{Pr}[b_j(y,s)>\\bar{b}_j])\\cdot \\beta \\textbf{E}[B(y',s') | y,s] +\\\\\n",
    "  &\\sigma \\cdot \\int \\Big( \\textbf{1}(b_j(y,s)>\\bar{b}_j) \\big(w_j - \\frac{\\theta}{y} \\bar{b}_j + \\beta  \\textbf{E}[S_j(y',s') | y-\\bar{b}_j,s] \\big) \\Big) dG_{\\bar{b}_j |s} \\\\\n",
    "\\end{align*}\n",
    "\n"
   ]
  },
  {
   "cell_type": "markdown",
   "metadata": {},
   "source": [
    "# Seller Value Function\n",
    "\n",
    "\\begin{align*}\n",
    "  S_{j}(y,s) =& \\alpha \\text{ln}((1-\\beta) y) + (1-\\rho_j)\\cdot(w_j + \\beta \\textbf{E}[S_j(y',s') | y,s] ) + \\\\\n",
    "  & \\rho_j \\cdot \\int \\Big( \\text{max}\\{ \\frac{\\theta}{y} b_{j,(2)} + \\textbf{E}[B(y',s') | y+b_{j,(2)},s] ,\\ w_j + \\beta \\textbf{E}[S_j(y',s') | y,s] \\} \\Big) dH_{b_{j,(2)} |s}\n",
    "\\end{align*}\n",
    "\n"
   ]
  },
  {
   "cell_type": "markdown",
   "metadata": {},
   "source": [
    "## ------------------------------------------------------------------------------------\n",
    "## New Approach\n",
    "## ------------------------------------------------------------------------------------\n",
    "\n",
    "Interpolate EB and ES in addition to interpolate B and S. Saves time by saving on many MC integrations."
   ]
  },
  {
   "cell_type": "code",
   "execution_count": null,
   "metadata": {},
   "outputs": [],
   "source": [
    "B1 = (1/(1-beta))*  (alpha*np.log((1-beta)*y_grid) + np.zeros(len(w)*state_grid.shape[0]*len(y_grid)).reshape(len(w),state_grid.shape[0],len(y_grid)))\n",
    "S1 = (1/(1-beta))* (alpha*np.log((1-beta)*y_grid) + np.array(np.repeat(w,state_grid.shape[0]*len(y_grid))).reshape(len(w),state_grid.shape[0],len(y_grid)))\n",
    "B1_interp = np.array([[interp1d(y_grid,B1[j,s,:],kind='linear',fill_value='extrapolate') for s in np.arange(lsg)] for j in np.arange(J)])\n",
    "S1_interp = np.array([[interp1d(y_grid,S1[j,s,:],kind='linear',fill_value='extrapolate') for s in np.arange(lsg)] for j in np.arange(J)])\n",
    "\n",
    "param1 = [beta,rho,w,J,alpha,sigma]\n",
    "set1 = [y_grid,lyg,b_grid,n_draws,state_grid]\n",
    "\n",
    "car_auctions = CarAuction()\n",
    "car_auctions.error(B1_interp, S1_interp)"
   ]
  },
  {
   "cell_type": "code",
   "execution_count": null,
   "metadata": {},
   "outputs": [],
   "source": [
    "%%time\n",
    "np.random.seed(2)\n",
    "\n",
    "#initial value functions\n",
    "B_cont = (1/(1-beta))*  (alpha*np.log((1-beta)*y_grid) + np.zeros(len(w)*state_grid.shape[0]*len(y_grid)).reshape(len(w),state_grid.shape[0],len(y_grid)))\n",
    "S_cont = (1/(1-beta))* (alpha*np.log((1-beta)*y_grid) + np.array(np.repeat(w,state_grid.shape[0]*len(y_grid))).reshape(len(w),state_grid.shape[0],len(y_grid)))\n",
    "\n",
    "#every one of N potential bidders has probability sigma of being active -- if m bidders are active, there are m-1 rivals\n",
    "rival_bidders = np.random.binomial(N,sigma,size=n_draws) - 1\n",
    "rival_bidders_ids = np.array([np.random.choice(N,size=rival_bidders[i], replace=False) for i in np.arange(n_draws)]) #dimensions: n_draws\n",
    "\n",
    "#every one of N potential bidders has probability sigma of being active\n",
    "active_bidders = np.random.binomial(N,sigma,size=n_draws)\n",
    "active_bidders_ids = np.array([np.random.choice(N,size=active_bidders[i], replace=False) for i in np.arange(n_draws)])\n",
    "#dimensions: n_draws\n",
    "\n",
    "#param_1 = [alpha,w]\n",
    "'''\n",
    "param_1 =[7.8,np.array([8.3,3.4,2.2])]\n",
    "param_2 = [beta,rho,sigma]\n",
    "set1 = [y_grid,lyg,b_grid,n_draws,state_grid]   \n",
    "'''\n",
    "car_auctions = CarAuction()\n",
    "car_auctions.error()\n",
    "\n",
    "for deg in[1]:\n",
    "    sim_output = car_auctions.fn_iterate(B_start = B_cont,S_start = S_cont, n_iter = 80,\n",
    "                            f_distr_R_states = distr_R_states,f_transition_probs = transition_probs,\n",
    "                            f_y_realis = y_realis_states,\n",
    "                            f_rival_bidders_ids=rival_bidders_ids, f_active_bidders_ids = active_bidders_ids, deg=deg)\n",
    "    check_mean = [np.mean(c) for c in sim_output[0]]\n",
    "    fig, ax = plt.subplots()\n",
    "    ax.plot(range(len(check_mean)),check_mean)\n",
    "    ax.set_xlabel(\"p\")\n",
    "    plt.title(\"Mean B(p)-B(p-1)\")"
   ]
  },
  {
   "cell_type": "code",
   "execution_count": null,
   "metadata": {},
   "outputs": [],
   "source": [
    "\n",
    "%%time\n",
    "np.random.seed(2)\n",
    "\n",
    "#initial value functions\n",
    "B_cont = (1/(1-beta))*  (alpha*np.log((1-beta)*y_grid) + np.zeros(len(w)*state_grid.shape[0]*len(y_grid)).reshape(len(w),state_grid.shape[0],len(y_grid)))\n",
    "S_cont = (1/(1-beta))* (alpha*np.log((1-beta)*y_grid) + np.array(np.repeat(w,state_grid.shape[0]*len(y_grid))).reshape(len(w),state_grid.shape[0],len(y_grid)))\n",
    "\n",
    "#every one of N potential bidders has probability sigma of being active -- if m bidders are active, there are m-1 rivals\n",
    "rival_bidders = np.random.binomial(N,sigma,size=n_draws) - 1\n",
    "rival_bidders_ids = np.array([np.random.choice(N,size=rival_bidders[i], replace=False) for i in np.arange(n_draws)]) #dimensions: n_draws\n",
    "\n",
    "#every one of N potential bidders has probability sigma of being active\n",
    "active_bidders = np.random.binomial(N,sigma,size=n_draws)\n",
    "active_bidders_ids = np.array([np.random.choice(N,size=active_bidders[i], replace=False) for i in np.arange(n_draws)])\n",
    "#dimensions: n_draws\n",
    "\n",
    "param_1 = [alpha,w]\n",
    "param_2 = [beta,rho,sigma]\n",
    "set1 = [y_grid,lyg,b_grid,n_draws,state_grid]    \n",
    "\n",
    "sim_output = fn_iterate(f_param1 = param_1,f_param2 = param_2,f_set = set1,\n",
    "                    B_start = B_cont,S_start = S_cont, n_iter = 80,\n",
    "                    f_distr_R_states = distr_R_states,f_transition_probs = transition_probs,\n",
    "                    f_y_realis = y_realis_states,\n",
    "                    f_rival_bidders_ids=rival_bidders_ids, f_active_bidders_ids = active_bidders_ids,deg=5)\n",
    "\n",
    "#check,bids_iter,B1,S1"
   ]
  },
  {
   "cell_type": "code",
   "execution_count": null,
   "metadata": {},
   "outputs": [],
   "source": [
    "check_mean = [np.mean(c) for c in sim_output[0]]\n",
    "\n",
    "fig, ax = plt.subplots()\n",
    "ax.plot(range(len(check_mean)),check_mean)\n",
    "ax.set_xlabel(\"p\")\n",
    "plt.title(\"Mean B(p)-B(p-1)\")"
   ]
  },
  {
   "cell_type": "code",
   "execution_count": null,
   "metadata": {},
   "outputs": [],
   "source": [
    "check_max = [np.max(c) for c in sim_output[0]]\n",
    "\n",
    "fig, ax = plt.subplots()\n",
    "ax.plot(range(len(check_max)),check_max)\n",
    "ax.set_xlabel(\"p\")\n",
    "plt.title(\"Max B(p)-B(p-1)\")"
   ]
  },
  {
   "cell_type": "code",
   "execution_count": null,
   "metadata": {},
   "outputs": [],
   "source": [
    "fig, ax = plt.subplots()\n",
    "for p in [20,30,40,50,60,70,79]:\n",
    "    ax.plot(y_grid,sim_output[2][p][1,4,:], label=\"Buyer state 4 p=%d\" %p)\n",
    "ax.legend(bbox_to_anchor=(1.05, 1), loc=2, borderaxespad=0.)"
   ]
  },
  {
   "cell_type": "code",
   "execution_count": null,
   "metadata": {},
   "outputs": [],
   "source": [
    "# Final Bid Function\n",
    "sim_bid_function = sim_output[1][79]"
   ]
  },
  {
   "cell_type": "code",
   "execution_count": null,
   "metadata": {},
   "outputs": [],
   "source": [
    "fig, ax = plt.subplots()\n",
    "#ax.plot(y_grid,y_grid, label=\"y\")\n",
    "for j in [0,1,2]:\n",
    "    ax.plot(y_grid,sim_bid_function[j,4,:], label=\"$b_%d(y,0)\" %j)\n",
    "#for j in [1,2]:\n",
    "#    ax.plot(y_grid,sim_output[1][1][j,4,:], label=\"$b_%d(y,8)\" %j)\n",
    "#for j in [1,2]:\n",
    "#    ax.plot(y_grid,sim_output[1][1][j,8,:], label=\"$b_%d(y,8)\" %j)\n",
    "ax.set_xlabel(\"Wealth\")\n",
    "ax.set_ylabel(\"Bid\")\n",
    "ax.legend(bbox_to_anchor=(1.05, 1), loc=2, borderaxespad=0.)"
   ]
  },
  {
   "cell_type": "code",
   "execution_count": null,
   "metadata": {},
   "outputs": [],
   "source": [
    "# Prices by states and cars\n",
    "sim_distr_bids = np.array([[np.interp(y_realis_states[s,:],y_grid,sim_bid_function[j,s,:]) for s in np.arange(lsg)] for j in np.arange(J)])\n",
    "sim_distr_b_2 = np.array([[[np.sort(sim_distr_bids[j,s,active_bidders_ids[i]])[-2] for i in np.arange(n_draws)] for s in np.arange(lsg)] for j in np.arange(J)])\n",
    "\n",
    "sim_exp_price = np.mean(sim_distr_b_2,axis=2)\n"
   ]
  },
  {
   "cell_type": "code",
   "execution_count": null,
   "metadata": {},
   "outputs": [],
   "source": [
    "# Simulate prices over years by interpolating to S&P500 in respective year\n",
    "time_prices = np.array([interp1d(state_grid,sim_exp_price[j,:], fill_value='extrapolate')(df['avgsp']) for j in range(J)])"
   ]
  },
  {
   "cell_type": "code",
   "execution_count": null,
   "metadata": {},
   "outputs": [],
   "source": [
    "#plt.plot(range(1992,2017),time_prices[1,:])\n",
    "\n",
    "fig, ax = plt.subplots()\n",
    "for j in [0,1,2]:\n",
    "    ax.plot(range(1992,2017),time_prices[j,:], label=\"Car %d\" %j)\n",
    "ax.legend(bbox_to_anchor=(1.05, 1), loc=2, borderaxespad=0.)\n",
    "plt.title(\"Simulated Expected Prices\")\n"
   ]
  },
  {
   "cell_type": "code",
   "execution_count": null,
   "metadata": {},
   "outputs": [],
   "source": [
    "fig, ax = plt.subplots()\n",
    "for j in [0,1,2]:\n",
    "    ax.plot(range(1992,2017),np.log(time_prices[j,:]/time_prices[j,16]), label=\"Car %d\" %j)\n",
    "ax.plot(range(1992,2017),np.log(df['avgsp']/df['avgsp'][16]), label=\"Average S&P500\")\n",
    "ax.legend(bbox_to_anchor=(1.05, 1), loc=2, borderaxespad=0.)\n",
    "plt.title(\"Log Prices vs Log S&P500\")\n"
   ]
  },
  {
   "cell_type": "code",
   "execution_count": null,
   "metadata": {},
   "outputs": [],
   "source": [
    "#calculate average over J\n",
    "avg_time_prices = np.mean(time_prices, axis=0)\n",
    "\n",
    "avg_time_prices.shape\n",
    "df['avgsp'].shape\n",
    "\n",
    "np.corrcoef(avg_time_prices,df['avgsp'])[0][1]\n"
   ]
  },
  {
   "cell_type": "code",
   "execution_count": null,
   "metadata": {},
   "outputs": [],
   "source": [
    "df_prices=pd.read_csv(\"simulation_data/book_total_brands.csv\", sep=\",\")"
   ]
  },
  {
   "cell_type": "code",
   "execution_count": null,
   "metadata": {},
   "outputs": [],
   "source": [
    "fig, ax = plt.subplots()\n",
    "for j in [0,1,2]:\n",
    "    ax.plot(range(1992,2017),np.log(time_prices[j,:]/time_prices[j,16]), label=\"Car %d\" %j)\n",
    "#ax.plot(range(1992,2017),np.log(df['avgsp']/df['avgsp'][16]), label=\"Average S&P500\")\n",
    "ax.plot(range(1993,2016),np.log(df_prices['avg_value_USD']/df_prices['avg_value_USD'][15]), label=\"Cars Data\", color=\"black\")\n",
    "ax.legend(bbox_to_anchor=(1.05, 1), loc=2, borderaxespad=0.)\n",
    "plt.title(\"Simulated Log Prices vs Data\")\n",
    "\n",
    "\n",
    "\n"
   ]
  },
  {
   "cell_type": "code",
   "execution_count": null,
   "metadata": {},
   "outputs": [],
   "source": [
    "#correlate data with S&P500\n",
    "np.corrcoef(df_prices['avg_value_USD'],df['avgsp'][1:24])\n",
    "\n",
    "#len(df_prices['avg_value_USD'].values)\n",
    "#len(df['avgsp'].values)\n",
    "\n",
    "#df[1:24]"
   ]
  },
  {
   "cell_type": "code",
   "execution_count": null,
   "metadata": {},
   "outputs": [],
   "source": [
    "df_prices"
   ]
  },
  {
   "cell_type": "code",
   "execution_count": null,
   "metadata": {},
   "outputs": [],
   "source": [
    "fig, ax = plt.subplots()\n",
    "ax.plot(range(1993,2016),np.log(df_prices['avg_value_USD']/df_prices['avg_value_USD'][15]), label=\"Avg Price Data\", color=\"black\")\n",
    "ax.plot(range(1993,2016),np.log(df_prices['avg_ferrari']/df_prices['avg_ferrari'][15]), label=\"Ferrari\", color=\"red\")\n",
    "ax.plot(range(1993,2016),np.log(df_prices['avg_mercedes']/df_prices['avg_mercedes'][15]), label=\"Mercedes\", color=\"blue\")\n",
    "ax.plot(range(1993,2016),np.log(df_prices['avg_porsche']/df_prices['avg_porsche'][15]), label=\"Porsche\", color=\"green\")\n",
    "ax.legend(bbox_to_anchor=(1.05, 1), loc=2, borderaxespad=0.)"
   ]
  },
  {
   "cell_type": "code",
   "execution_count": null,
   "metadata": {},
   "outputs": [],
   "source": []
  },
  {
   "cell_type": "code",
   "execution_count": null,
   "metadata": {},
   "outputs": [],
   "source": []
  }
 ],
 "metadata": {
  "kernelspec": {
   "display_name": "Python 3",
   "language": "python",
   "name": "python3"
  },
  "language_info": {
   "codemirror_mode": {
    "name": "ipython",
    "version": 3
   },
   "file_extension": ".py",
   "mimetype": "text/x-python",
   "name": "python",
   "nbconvert_exporter": "python",
   "pygments_lexer": "ipython3",
   "version": "3.6.4"
  }
 },
 "nbformat": 4,
 "nbformat_minor": 2
}
