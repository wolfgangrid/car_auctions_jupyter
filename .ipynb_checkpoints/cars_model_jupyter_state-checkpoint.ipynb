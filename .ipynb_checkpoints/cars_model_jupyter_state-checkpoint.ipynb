{
 "cells": [
  {
   "cell_type": "code",
   "execution_count": 1,
   "metadata": {},
   "outputs": [],
   "source": [
    "import numpy as np\n",
    "#from scipy import interpolate\n",
    "from scipy.interpolate import interp1d\n",
    "import pandas as pd\n",
    "import matplotlib.pyplot as plt\n",
    "import seaborn as sns\n",
    "import scipy.optimize\n",
    "\n",
    "np.random.seed(2)\n",
    "#%load_ext autotime\n",
    "%matplotlib inline"
   ]
  },
  {
   "cell_type": "code",
   "execution_count": 2,
   "metadata": {},
   "outputs": [
    {
     "name": "stdout",
     "output_type": "stream",
     "text": [
      "100000 2095000\n"
     ]
    }
   ],
   "source": [
    "##\n",
    "# Grids\n",
    "##\n",
    "#y_grid = 10+30*np.array([range(0,50)]).reshape(50)\n",
    "#state_grid = np.array([200,250])\n",
    "#b_grid = 5*np.array(range(0,100))\n",
    "\n",
    "\n",
    "y_grid = 100000 + 5000*np.arange(400)\n",
    "print(np.min(y_grid),np.max(y_grid))\n",
    "#y_grid = np.random()\n",
    "#check if required\n",
    "y_grid = y_grid.reshape(400)\n",
    "\n",
    "#y_grid=np.random.randint(low=100000,high=2095000,size=(40000,))\n",
    "b_grid = 20000 + 5000*np.arange(0,600)\n",
    "lyg = len(y_grid) \n",
    "\n",
    "#lbg = len(b_grid)"
   ]
  },
  {
   "cell_type": "code",
   "execution_count": 3,
   "metadata": {},
   "outputs": [],
   "source": [
    "##\n",
    "# Parameters\n",
    "##\n",
    "beta = 0.95\n",
    "alpha = 10\n",
    "w = np.array([1,2,4])\n",
    "param = np.append(alpha,w)\n",
    "J = len(w)\n",
    "rho = np.ones(np.shape(w))/np.shape(w)\n",
    "sigma=0.1\n",
    "n_draws = 200\n",
    "\n",
    "N = 100\n",
    "#b = 0.1\n"
   ]
  },
  {
   "cell_type": "markdown",
   "metadata": {},
   "source": [
    "# States"
   ]
  },
  {
   "cell_type": "code",
   "execution_count": 4,
   "metadata": {},
   "outputs": [
    {
     "data": {
      "text/html": [
       "<div>\n",
       "<style scoped>\n",
       "    .dataframe tbody tr th:only-of-type {\n",
       "        vertical-align: middle;\n",
       "    }\n",
       "\n",
       "    .dataframe tbody tr th {\n",
       "        vertical-align: top;\n",
       "    }\n",
       "\n",
       "    .dataframe thead th {\n",
       "        text-align: right;\n",
       "    }\n",
       "</style>\n",
       "<table border=\"1\" class=\"dataframe\">\n",
       "  <thead>\n",
       "    <tr style=\"text-align: right;\">\n",
       "      <th></th>\n",
       "      <th>Unnamed: 0</th>\n",
       "      <th>season</th>\n",
       "      <th>avgsp</th>\n",
       "      <th>state</th>\n",
       "      <th>return</th>\n",
       "    </tr>\n",
       "  </thead>\n",
       "  <tbody>\n",
       "    <tr>\n",
       "      <th>0</th>\n",
       "      <td>1</td>\n",
       "      <td>1992</td>\n",
       "      <td>448.303753</td>\n",
       "      <td>400.0</td>\n",
       "      <td>1.02887</td>\n",
       "    </tr>\n",
       "    <tr>\n",
       "      <th>1</th>\n",
       "      <td>2</td>\n",
       "      <td>1993</td>\n",
       "      <td>461.245832</td>\n",
       "      <td>400.0</td>\n",
       "      <td>1.08824</td>\n",
       "    </tr>\n",
       "    <tr>\n",
       "      <th>2</th>\n",
       "      <td>3</td>\n",
       "      <td>1994</td>\n",
       "      <td>501.945005</td>\n",
       "      <td>600.0</td>\n",
       "      <td>1.26093</td>\n",
       "    </tr>\n",
       "    <tr>\n",
       "      <th>3</th>\n",
       "      <td>4</td>\n",
       "      <td>1995</td>\n",
       "      <td>632.918330</td>\n",
       "      <td>600.0</td>\n",
       "      <td>1.2657</td>\n",
       "    </tr>\n",
       "    <tr>\n",
       "      <th>4</th>\n",
       "      <td>5</td>\n",
       "      <td>1996</td>\n",
       "      <td>801.083338</td>\n",
       "      <td>800.0</td>\n",
       "      <td>1.283</td>\n",
       "    </tr>\n",
       "    <tr>\n",
       "      <th>5</th>\n",
       "      <td>6</td>\n",
       "      <td>1997</td>\n",
       "      <td>1027.788335</td>\n",
       "      <td>1000.0</td>\n",
       "      <td>1.21391</td>\n",
       "    </tr>\n",
       "    <tr>\n",
       "      <th>6</th>\n",
       "      <td>7</td>\n",
       "      <td>1998</td>\n",
       "      <td>1247.644999</td>\n",
       "      <td>1200.0</td>\n",
       "      <td>1.1381</td>\n",
       "    </tr>\n",
       "    <tr>\n",
       "      <th>7</th>\n",
       "      <td>8</td>\n",
       "      <td>1999</td>\n",
       "      <td>1419.950002</td>\n",
       "      <td>1400.0</td>\n",
       "      <td>0.900377</td>\n",
       "    </tr>\n",
       "    <tr>\n",
       "      <th>8</th>\n",
       "      <td>9</td>\n",
       "      <td>2000</td>\n",
       "      <td>1278.490814</td>\n",
       "      <td>1200.0</td>\n",
       "      <td>0.830024</td>\n",
       "    </tr>\n",
       "    <tr>\n",
       "      <th>9</th>\n",
       "      <td>10</td>\n",
       "      <td>2001</td>\n",
       "      <td>1061.178324</td>\n",
       "      <td>1000.0</td>\n",
       "      <td>0.857186</td>\n",
       "    </tr>\n",
       "    <tr>\n",
       "      <th>10</th>\n",
       "      <td>11</td>\n",
       "      <td>2002</td>\n",
       "      <td>909.627508</td>\n",
       "      <td>1000.0</td>\n",
       "      <td>1.20872</td>\n",
       "    </tr>\n",
       "    <tr>\n",
       "      <th>11</th>\n",
       "      <td>12</td>\n",
       "      <td>2003</td>\n",
       "      <td>1099.488322</td>\n",
       "      <td>1000.0</td>\n",
       "      <td>1.07551</td>\n",
       "    </tr>\n",
       "    <tr>\n",
       "      <th>12</th>\n",
       "      <td>13</td>\n",
       "      <td>2004</td>\n",
       "      <td>1182.514150</td>\n",
       "      <td>1200.0</td>\n",
       "      <td>1.07261</td>\n",
       "    </tr>\n",
       "    <tr>\n",
       "      <th>13</th>\n",
       "      <td>14</td>\n",
       "      <td>2005</td>\n",
       "      <td>1268.381663</td>\n",
       "      <td>1200.0</td>\n",
       "      <td>1.13296</td>\n",
       "    </tr>\n",
       "    <tr>\n",
       "      <th>14</th>\n",
       "      <td>15</td>\n",
       "      <td>2006</td>\n",
       "      <td>1437.019989</td>\n",
       "      <td>1400.0</td>\n",
       "      <td>0.966914</td>\n",
       "    </tr>\n",
       "    <tr>\n",
       "      <th>15</th>\n",
       "      <td>16</td>\n",
       "      <td>2007</td>\n",
       "      <td>1389.474162</td>\n",
       "      <td>1400.0</td>\n",
       "      <td>0.66049</td>\n",
       "    </tr>\n",
       "    <tr>\n",
       "      <th>16</th>\n",
       "      <td>17</td>\n",
       "      <td>2008</td>\n",
       "      <td>917.734166</td>\n",
       "      <td>1000.0</td>\n",
       "      <td>1.19039</td>\n",
       "    </tr>\n",
       "    <tr>\n",
       "      <th>17</th>\n",
       "      <td>18</td>\n",
       "      <td>2009</td>\n",
       "      <td>1092.460815</td>\n",
       "      <td>1000.0</td>\n",
       "      <td>1.1627</td>\n",
       "    </tr>\n",
       "    <tr>\n",
       "      <th>18</th>\n",
       "      <td>19</td>\n",
       "      <td>2010</td>\n",
       "      <td>1270.203328</td>\n",
       "      <td>1200.0</td>\n",
       "      <td>1.03869</td>\n",
       "    </tr>\n",
       "    <tr>\n",
       "      <th>19</th>\n",
       "      <td>20</td>\n",
       "      <td>2011</td>\n",
       "      <td>1319.345001</td>\n",
       "      <td>1400.0</td>\n",
       "      <td>1.16412</td>\n",
       "    </tr>\n",
       "    <tr>\n",
       "      <th>20</th>\n",
       "      <td>21</td>\n",
       "      <td>2012</td>\n",
       "      <td>1535.872497</td>\n",
       "      <td>1600.0</td>\n",
       "      <td>1.21041</td>\n",
       "    </tr>\n",
       "    <tr>\n",
       "      <th>21</th>\n",
       "      <td>22</td>\n",
       "      <td>2013</td>\n",
       "      <td>1859.035828</td>\n",
       "      <td>1800.0</td>\n",
       "      <td>1.10345</td>\n",
       "    </tr>\n",
       "    <tr>\n",
       "      <th>22</th>\n",
       "      <td>23</td>\n",
       "      <td>2014</td>\n",
       "      <td>2051.350840</td>\n",
       "      <td>2000.0</td>\n",
       "      <td>1.00184</td>\n",
       "    </tr>\n",
       "    <tr>\n",
       "      <th>23</th>\n",
       "      <td>24</td>\n",
       "      <td>2015</td>\n",
       "      <td>2055.134175</td>\n",
       "      <td>2000.0</td>\n",
       "      <td>1.06223</td>\n",
       "    </tr>\n",
       "    <tr>\n",
       "      <th>24</th>\n",
       "      <td>25</td>\n",
       "      <td>2016</td>\n",
       "      <td>2183.015015</td>\n",
       "      <td>2200.0</td>\n",
       "      <td>NA</td>\n",
       "    </tr>\n",
       "  </tbody>\n",
       "</table>\n",
       "</div>"
      ],
      "text/plain": [
       "    Unnamed: 0  season        avgsp   state    return\n",
       "0            1    1992   448.303753   400.0   1.02887\n",
       "1            2    1993   461.245832   400.0   1.08824\n",
       "2            3    1994   501.945005   600.0   1.26093\n",
       "3            4    1995   632.918330   600.0    1.2657\n",
       "4            5    1996   801.083338   800.0     1.283\n",
       "5            6    1997  1027.788335  1000.0   1.21391\n",
       "6            7    1998  1247.644999  1200.0    1.1381\n",
       "7            8    1999  1419.950002  1400.0  0.900377\n",
       "8            9    2000  1278.490814  1200.0  0.830024\n",
       "9           10    2001  1061.178324  1000.0  0.857186\n",
       "10          11    2002   909.627508  1000.0   1.20872\n",
       "11          12    2003  1099.488322  1000.0   1.07551\n",
       "12          13    2004  1182.514150  1200.0   1.07261\n",
       "13          14    2005  1268.381663  1200.0   1.13296\n",
       "14          15    2006  1437.019989  1400.0  0.966914\n",
       "15          16    2007  1389.474162  1400.0   0.66049\n",
       "16          17    2008   917.734166  1000.0   1.19039\n",
       "17          18    2009  1092.460815  1000.0    1.1627\n",
       "18          19    2010  1270.203328  1200.0   1.03869\n",
       "19          20    2011  1319.345001  1400.0   1.16412\n",
       "20          21    2012  1535.872497  1600.0   1.21041\n",
       "21          22    2013  1859.035828  1800.0   1.10345\n",
       "22          23    2014  2051.350840  2000.0   1.00184\n",
       "23          24    2015  2055.134175  2000.0   1.06223\n",
       "24          25    2016  2183.015015  2200.0        NA"
      ]
     },
     "execution_count": 4,
     "metadata": {},
     "output_type": "execute_result"
    }
   ],
   "source": [
    "#import stock market level\n",
    "df=pd.read_csv(\"simulation_data/avgsp.csv\", sep=\",\")\n",
    "state_grid = 200.0*np.arange(2,11)\n",
    "lsg = len(state_grid)\n",
    "\n",
    "#assign states to S&P Data\n",
    "\n",
    "#round S&P level to nearest grid point\n",
    "df['state'] = [400+200*np.round((sp-400)/200,0) for sp in df['avgsp']]\n",
    "\n",
    "#calculate return\n",
    "df['return'] = [df['avgsp'][i+1]/df['avgsp'][i] for i in range(len(df)-1)] + ['NA']\n",
    "\n",
    "df"
   ]
  },
  {
   "cell_type": "markdown",
   "metadata": {},
   "source": [
    "## Transition Probabilities between States\n",
    "\n",
    "For now assume transition probabilities according to relative frequency of each state, regardless of current state (conditional and unconditional probabilities are the same)"
   ]
  },
  {
   "cell_type": "code",
   "execution_count": 5,
   "metadata": {},
   "outputs": [],
   "source": [
    "state_freq = np.array([np.sum(1*(df['state']==s))/(len(df)-1.00) for s in state_grid])\n",
    "transition_probs = np.tile(state_freq,lsg).reshape(lsg,lsg)"
   ]
  },
  {
   "cell_type": "markdown",
   "metadata": {},
   "source": [
    "## Distribution of Returns by State\n",
    "\n",
    "For now assume expectations over returns are the same in all states."
   ]
  },
  {
   "cell_type": "code",
   "execution_count": 6,
   "metadata": {},
   "outputs": [],
   "source": [
    "#Realised returns in S&P Data\n",
    "realis_sp_return = np.array([df['avgsp'][i+1]/df['avgsp'][i] for i in range(len(df)-1)])\n",
    "\n",
    "#Individual Returns: one of the realised returns plus idiosyncratic noise\n",
    "np.random.seed(3)\n",
    "distr_mean_R = np.array(np.random.choice(realis_sp_return,size=n_draws,replace=True))\n",
    "np.random.seed(2)\n",
    "distr_R = distr_mean_R + np.random.uniform(-0.05,+0.05,n_draws)\n",
    "\n",
    "distr_R_states = np.array([distr_R for s in state_grid])\n",
    "#distr_R_states"
   ]
  },
  {
   "cell_type": "code",
   "execution_count": 7,
   "metadata": {},
   "outputs": [
    {
     "data": {
      "text/plain": [
       "1.0819433751865255"
      ]
     },
     "execution_count": 7,
     "metadata": {},
     "output_type": "execute_result"
    }
   ],
   "source": [
    "np.mean(distr_R)"
   ]
  },
  {
   "cell_type": "markdown",
   "metadata": {},
   "source": [
    "## Income Distribution by State"
   ]
  },
  {
   "cell_type": "code",
   "execution_count": 8,
   "metadata": {},
   "outputs": [],
   "source": [
    "np.random.seed(2)\n",
    "y_realis_1 = np.random.lognormal(np.log(150000),np.log(2),np.round(N))\n",
    "\n",
    "state_grid_change = np.array([state_grid[i]/state_grid[0] for i in range(lsg)])\n",
    "\n",
    "#mean wealth\n",
    "#50% of wealth invested in the stock market\n",
    "mean_wealth_state = np.array([75000 + state_grid_change[s]*75000 for s in range(lsg)])\n",
    "np.random.seed(4)\n",
    "y_realis_states = np.array([np.random.lognormal(np.log(mean_wealth_state[s]),np.log(2),np.round(N)) for s in range(lsg)])\n",
    "\n"
   ]
  },
  {
   "cell_type": "code",
   "execution_count": 9,
   "metadata": {},
   "outputs": [
    {
     "data": {
      "text/plain": [
       "<matplotlib.legend.Legend at 0x1ef966f86d8>"
      ]
     },
     "execution_count": 9,
     "metadata": {},
     "output_type": "execute_result"
    },
    {
     "data": {
      "image/png": "[encoded data removed]",
      "text/plain": [
       "<matplotlib.figure.Figure at 0x1ef96635fd0>"
      ]
     },
     "metadata": {},
     "output_type": "display_data"
    }
   ],
   "source": [
    "fig, ax = plt.subplots()\n",
    "for s in [0,2,5,8]: sns.distplot(y_realis_states[s,:],hist=False, label=\"State %d\" %state_grid[s])\n",
    "ax.set_xlabel(\"Wealth\")\n",
    "ax.set_ylabel(\"Density\")\n",
    "ax.legend(bbox_to_anchor=(1.05, 1), loc=2, borderaxespad=0.)"
   ]
  },
  {
   "cell_type": "markdown",
   "metadata": {},
   "source": [
    "# Bid Function\n",
    "\n",
    "$b_j(y,s) = \\theta y (w_j + \\beta(\\textbf{E}[S_j(y',s') | y-b_j(y,s),s] - \\textbf{E}[B(y',s') | y,s] ))$"
   ]
  },
  {
   "cell_type": "markdown",
   "metadata": {},
   "source": [
    "# Buyer Value Function\n",
    "\n",
    "\\begin{align*}\n",
    "  B_{j}(y,s) =& \\alpha \\text{ln}((1-\\beta) y) + (1-\\sigma \\textbf{Pr}[b_j(y,s)>\\bar{b}_j])\\cdot \\beta \\textbf{E}[B(y',s') | y,s] +\\\\\n",
    "  &\\sigma \\cdot \\int \\Big( \\textbf{1}(b_j(y,s)>\\bar{b}_j) \\big(w_j - \\frac{\\theta}{y} \\bar{b}_j + \\beta  \\textbf{E}[S_j(y',s') | y-\\bar{b}_j,s] \\big) \\Big) dG_{\\bar{b}_j |s} \\\\\n",
    "\\end{align*}\n",
    "\n"
   ]
  },
  {
   "cell_type": "markdown",
   "metadata": {},
   "source": [
    "# Seller Value Function\n",
    "\n",
    "\\begin{align*}\n",
    "  S_{j}(y,s) =& \\alpha \\text{ln}((1-\\beta) y) + (1-\\rho_j)\\cdot(w_j + \\beta \\textbf{E}[S_j(y',s') | y,s] ) + \\\\\n",
    "  & \\rho_j \\cdot \\int \\Big( \\text{max}\\{ \\frac{\\theta}{y} b_{j,(2)} + \\textbf{E}[B(y',s') | y+b_{j,(2)},s] ,\\ w_j + \\beta \\textbf{E}[S_j(y',s') | y,s] \\} \\Big) dH_{b_{j,(2)} |s}\n",
    "\\end{align*}\n",
    "\n"
   ]
  },
  {
   "cell_type": "markdown",
   "metadata": {},
   "source": [
    "## ------------------------------------------------------------------------------------\n",
    "## New Approach\n",
    "## ------------------------------------------------------------------------------------\n",
    "\n",
    "Interpolate EB and ES in addition to interpolate B and S. Saves time by saving on many MC integrations."
   ]
  },
  {
   "cell_type": "code",
   "execution_count": 10,
   "metadata": {},
   "outputs": [],
   "source": [
    "def make_poly(coefs):\n",
    "    def poly(x):\n",
    "        result = 0\n",
    "        for c in coefs:\n",
    "            result = result * x + c\n",
    "        return result\n",
    "    return poly"
   ]
  },
  {
   "cell_type": "code",
   "execution_count": 11,
   "metadata": {},
   "outputs": [],
   "source": [
    "def bid_fn2(f_param,f_set,f_EB,f_ES_interp):\n",
    "    (f_beta,f_rho,f_w,f_J,f_alpha) = (f_param[0],f_param[1],f_param[2],f_param[3],f_param[4])\n",
    "    (f_y_grid,f_lyg,f_b_grid,f_n_draws,f_state_grid) = (f_set[0],f_set[1],f_set[2],f_set[3],f_set[4])\n",
    "    (f_lyg,f_lbg,f_lsg) = (len(f_y_grid),len(f_b_grid),len(f_state_grid))\n",
    "    y_buy = f_y_grid.reshape(f_lyg,1) - f_b_grid.reshape(1,f_lbg)\n",
    "    ES_buy = np.array([[f_ES_interp[j,s](y_buy) for s in np.arange(f_lsg)] for j in np.arange(f_J)])\n",
    "    error = (f_alpha/(1-f_beta)) * f_y_grid.reshape(1,1,f_lyg,1) * (f_w.reshape(f_J,1,1,1) + f_beta*(ES_buy - f_EB.reshape(1,f_lsg,f_lyg,1))) - f_b_grid.reshape(1,1,1,f_lbg)\n",
    "    return f_b_grid[np.argmin(error**2,axis=3)]"
   ]
  },
  {
   "cell_type": "code",
   "execution_count": 12,
   "metadata": {},
   "outputs": [],
   "source": [
    "def fn_B2(f_param,f_set,f_EB,f_ES_interp,bid_now,distr_b_bar_now):\n",
    "    (f_beta,f_rho,f_w,f_J,f_alpha,f_sigma) = (f_param[0],f_param[1],f_param[2],f_param[3],f_param[4],f_param[5])\n",
    "    (f_y_grid,f_lyg,f_b_grid,f_n_draws,f_state_grid) = (f_set[0],f_set[1],f_set[2],f_set[3],f_set[4])\n",
    "    (f_lyg,f_lbg,f_lsg) = (len(f_y_grid),len(f_b_grid),len(f_state_grid))\n",
    "    win_bool = (bid_now.reshape(f_J,f_lsg,f_lyg,1)>distr_b_bar_now.reshape(f_J,f_lsg,1,f_n_draws)) #dimensions: J x states x y_gridpoints x n_draws\n",
    "    win_prob = np.mean(win_bool,axis=3) #dimensions: J x states x y_gridpoints\n",
    "    #V1 = utility of composite good consumption plus continuation value of not winning (if inactive or active but losing the auction)\n",
    "    V1 = (f_alpha*np.log((1-f_beta)*f_y_grid)).reshape(1,1,f_lyg) + (1-f_sigma*win_prob)*f_beta*f_EB.reshape(1,f_lsg,f_lyg) #dimensions: J x states x y_gridpoints\n",
    "    #V2 = expected utility of winning\n",
    "    y_buy = f_y_grid.reshape(1,1,f_lyg,1) - distr_b_bar_now.reshape(f_J,f_lsg,1,f_n_draws) #dimensions: J x S x Y x n_draws (b_bar)\n",
    "    ES_buy = np.array([[f_ES_interp[j,s](y_buy[j,s,:,:]) for s in np.arange(f_lsg)] for j in np.arange(f_J)]) #dimensions: J x S x Y x n_draws (b_bar)\n",
    "    V2_per_b_bar = f_w.reshape(f_J,1,1,1) - (f_alpha*distr_b_bar_now.reshape(f_J,f_lsg,1,f_n_draws) / ((1-f_beta) * f_y_grid.reshape(1,1,f_lyg,1))) + f_beta*ES_buy #dimensions: J x S x Y x n_draws (b_bar)\n",
    "    V2 = f_sigma*np.mean(win_bool * V2_per_b_bar,axis=3)\n",
    "    return V1 + V2\n",
    " \n",
    "#dimensions: J x S x n_draws    "
   ]
  },
  {
   "cell_type": "code",
   "execution_count": 13,
   "metadata": {},
   "outputs": [],
   "source": [
    "def fn_S2(f_param,f_set,f_EB_interp,f_ES,distr_b_2_now):\n",
    "    (f_beta,f_rho,f_w,f_J,f_alpha,f_sigma) = (f_param[0],f_param[1],f_param[2],f_param[3],f_param[4],f_param[5])\n",
    "    (f_y_grid,f_lyg,f_b_grid,f_n_draws,f_state_grid) = (f_set[0],f_set[1],f_set[2],f_set[3],f_set[4])\n",
    "    (f_lyg,f_lbg,f_lsg) = (len(f_y_grid),len(f_b_grid),len(f_state_grid))\n",
    "    keep = (f_w.reshape(f_J,1,1) + f_beta * f_ES) #dim: J x S x Y\n",
    "    #V1 = utility of composite good consumption plus continuation value of keeping the car if not picked for auction\n",
    "    V1 = (f_alpha*np.log((1-f_beta)*f_y_grid)).reshape(1,1,f_lyg) + (1-f_rho.reshape(f_J,1,1)) * keep\n",
    "    #V2 = expected utility of having car picked for auction\n",
    "    y_sell = f_y_grid.reshape(1,1,f_lyg,1) - distr_b_2_now.reshape(f_J,f_lsg,1,f_n_draws) #dimensions: J x S x Y x n_draws (b_2)\n",
    "    EB_sell = np.array([[f_EB_interp[s](y_sell[j,s,:,:]) for s in np.arange(f_lsg)] for j in np.arange(f_J)]) #dimensions: J x S x Y x n_draws (b_2)\n",
    "    sell_per_b_2 = (f_alpha*distr_b_2_now.reshape(f_J,f_lsg,1,f_n_draws) / ((1-f_beta) * f_y_grid.reshape(1,1,f_lyg,1))) + f_beta*EB_sell #dimensions: J x states x y_gridpoints x n_draws (b_2)\n",
    "    keep_broadc = np.repeat(keep.reshape(f_J,f_lsg,f_lyg,1),f_n_draws,axis=3)\n",
    "    V2_per_b_2 = np.max(np.array([keep_broadc,sell_per_b_2]),axis=0) #pick max of selling or keeping for each draw from distribution of b_2 (since seller decides to sell or not after observing the bids)\n",
    "    #V2_per_b_2 = sell_per_b_2 #ignore reserve price for now\n",
    "    V2 = f_rho.reshape(f_J,1,1) * np.mean(V2_per_b_2,axis=3) #integrate over distribution of b_2\n",
    "    return V1 + V2"
   ]
  },
  {
   "cell_type": "code",
   "execution_count": 3,
   "metadata": {},
   "outputs": [],
   "source": [
    "def fn_iterate(f_param1,f_param2,f_set,\n",
    "               B_start,S_start,n_iter,\n",
    "              f_distr_R_states,f_transition_probs,\n",
    "              f_y_realis,f_rival_bidders_ids,f_active_bidders_ids,kind,deg):\n",
    "    (f_alpha,f_w) = (f_param1[0],f_param1[1])\n",
    "    f_J = len(f_w)\n",
    "    (f_beta,f_rho,f_sigma) = (f_param2[0],f_param2[1],f_param2[2])\n",
    "    (f_y_grid,f_lyg,f_b_grid,f_n_draws,f_state_grid) = (f_set[0],f_set[1],f_set[2],f_set[3],f_set[4])\n",
    "    print(f_y_grid.shape)\n",
    "    (f_lyg,f_lbg,f_lsg) = (len(f_y_grid),len(f_b_grid),len(f_state_grid))\n",
    "    f_param = [f_beta,f_rho,f_w,f_J,f_alpha,f_sigma]\n",
    "    check = []\n",
    "    bids_iter = []\n",
    "    Buyer_iter = []\n",
    "    (B1,S1) = (B_start,S_start)\n",
    "    for t in np.arange(n_iter):\n",
    "        # interpolate B1 and S1\n",
    "        B1_interp = np.array([[make_poly(np.polyfit(f_y_grid,B1[j,s,:],deg=deg))for s in np.arange(f_lsg)]for j in np.arange(f_J)])\n",
    "        #B1_interp = np.array([[interp1d(f_y_grid,B1[j,s,:],fill_value='extrapolate',kind=kind) for s in np.arange(f_lsg)] for j in np.arange(f_J)])\n",
    "        S1_interp = np.array([[make_poly(np.polyfit(f_y_grid,S1[j,s,:],deg=deg))for s in np.arange(f_lsg)] for j in np.arange(f_J)])\n",
    "        # Calculate EB1\n",
    "        distr_y_next = f_beta * f_distr_R_states.reshape(f_lsg,1,f_n_draws) * f_y_grid.reshape(1,f_lyg,1) #dimensions: state_gridpoints x y_gridpoints x n_draws\n",
    "        EB_per_state_1 = np.array([[np.mean(B1_interp[j,s](distr_y_next[s,:,:]), axis=1) for s in np.arange(f_lsg)] for j in np.arange(f_J)]) #dimenstions: J x states x y\n",
    "        EB1 = np.sum([f_rho[j]*np.dot(f_transition_probs,EB_per_state_1[j,:,:]) for j in np.arange(f_J)],axis=0) #dimensions: states x y\n",
    "        # interpolate EB1\n",
    "        #print(np.array([np.polyfit(f_y_grid,EB1[s,:], deg=deg) for s in np.arange(f_lsg)]).shape)\n",
    "        EB1_interp = np.array([make_poly(np.polyfit(f_y_grid,EB1[s,:], deg=deg)) for s in np.arange(f_lsg)]) #dimesions: states\n",
    "        #print(EB1_interp)\n",
    "        #EB1_interp = np.array([interp1d(f_y_grid,EB1[s,:], kind=kind, fill_value='extrapolate') for s in np.arange(f_lsg)]) #dimesions: states\n",
    "        # Calculate ES1\n",
    "        ES_per_state_1 = np.array([[np.mean(S1_interp[j,s](distr_y_next[s,:,:]),axis=1) for s in np.arange(f_lsg)] for j in np.arange(f_J)]) #dimenstions: J x states x y\n",
    "        ES1 = np.array([np.dot(f_transition_probs,ES_per_state_1[j,:,:]) for j in np.arange(f_J)])\n",
    "        # interpolate ES1\n",
    "        ES1_interp = np.array([[make_poly(np.polyfit(f_y_grid,ES1[j,s,:], deg=deg)) for s in np.arange(f_lsg)] for j in np.arange(f_J)]) #dimenstions: J x states\n",
    "        #print(ES1_interp)\n",
    "        #ES1_interp = np.array([[interp1d(f_y_grid,ES1[j,s,:], fill_value='extrapolate',kind=kind) for s in np.arange(f_lsg)] for j in np.arange(f_J)]) #dimenstions: J x states\n",
    "        #print(ES1_interp)\n",
    "        # bid function\n",
    "        bid1 = bid_fn2(f_param,f_set,EB1,ES1_interp)\n",
    "        # update beliefs\n",
    "        distr_bids1 = np.array([[np.interp(f_y_realis[s,:],f_y_grid,bid1[j,s,:]) for s in np.arange(f_lsg)] for j in np.arange(f_J)])\n",
    "        distr_b_bar_1 = np.array([[[np.sort(distr_bids1[j,s,f_rival_bidders_ids[i]])[-1] for i in np.arange(f_n_draws)] for s in np.arange(f_lsg)] for j in np.arange(f_J)])\n",
    "        distr_b_2 = np.array([[[np.sort(distr_bids1[j,s,f_active_bidders_ids[i]])[-2] for i in np.arange(f_n_draws)] for s in np.arange(f_lsg)] for j in np.arange(f_J)])\n",
    "        # Update Buyer Value\n",
    "        B2 = fn_B2(f_param,f_set,EB1,ES1_interp,bid1,distr_b_bar_1)\n",
    "        # Update Seller Value\n",
    "        S2 = fn_S2(f_param,f_set,EB1_interp,ES1,distr_b_2)\n",
    "        check = check + [np.absolute(B2-B1)]\n",
    "        bids_iter = bids_iter + [bid1]\n",
    "        Buyer_iter = Buyer_iter + [B1]\n",
    "        (B1,S1) = (B2,S2)\n",
    "    return [check,bids_iter,Buyer_iter]\n",
    "\n"
   ]
  },
  {
   "cell_type": "code",
   "execution_count": 37,
   "metadata": {},
   "outputs": [
    {
     "name": "stdout",
     "output_type": "stream",
     "text": [
      "slinear\n",
      "(400,)\n",
      "Wall time: 1min 57s\n"
     ]
    },
    {
     "data": {
      "image/png": "[encoded data removed]",
      "text/plain": [
       "<matplotlib.figure.Figure at 0x1ef97dcb780>"
      ]
     },
     "metadata": {},
     "output_type": "display_data"
    },
    {
     "data": {
      "image/png": "[encoded data removed]",
      "text/plain": [
       "<matplotlib.figure.Figure at 0x1ef97dbae10>"
      ]
     },
     "metadata": {},
     "output_type": "display_data"
    }
   ],
   "source": [
    "%%time\n",
    "np.random.seed(2)\n",
    "\n",
    "#initial value functions\n",
    "B_cont = (1/(1-beta))*  (alpha*np.log((1-beta)*y_grid) + np.zeros(len(w)*state_grid.shape[0]*len(y_grid)).reshape(len(w),state_grid.shape[0],len(y_grid)))\n",
    "S_cont = (1/(1-beta))* (alpha*np.log((1-beta)*y_grid) + np.array(np.repeat(w,state_grid.shape[0]*len(y_grid))).reshape(len(w),state_grid.shape[0],len(y_grid)))\n",
    "\n",
    "#every one of N potential bidders has probability sigma of being active -- if m bidders are active, there are m-1 rivals\n",
    "rival_bidders = np.random.binomial(N,sigma,size=n_draws) - 1\n",
    "rival_bidders_ids = np.array([np.random.choice(N,size=rival_bidders[i], replace=False) for i in np.arange(n_draws)]) #dimensions: n_draws\n",
    "\n",
    "#every one of N potential bidders has probability sigma of being active\n",
    "active_bidders = np.random.binomial(N,sigma,size=n_draws)\n",
    "active_bidders_ids = np.array([np.random.choice(N,size=active_bidders[i], replace=False) for i in np.arange(n_draws)])\n",
    "#dimensions: n_draws\n",
    "\n",
    "#param_1 = [alpha,w]\n",
    "param_1 =[7.8,np.array([8.3,3.4,2.2])]\n",
    "param_2 = [beta,rho,sigma]\n",
    "set1 = [y_grid,lyg,b_grid,n_draws,state_grid]   \n",
    "for deg in[1,2,3,4,5]:\n",
    "    #for kind in['nearest', 'zero', 'slinear', 'linear', 'quadratic', 'cubic']:\n",
    "    for kind in['slinear']:\n",
    "        print(kind)\n",
    "        sim_output = fn_iterate(f_param1 = param_1,f_param2 = param_2,f_set = set1,\n",
    "                        B_start = B_cont,S_start = S_cont, n_iter = 80,\n",
    "                        f_distr_R_states = distr_R_states,f_transition_probs = transition_probs,\n",
    "                        f_y_realis = y_realis_states,\n",
    "                        f_rival_bidders_ids=rival_bidders_ids, f_active_bidders_ids = active_bidders_ids, kind=kind,deg=deg)\n",
    "        check_mean = [np.mean(c) for c in sim_output[0]]\n",
    "        fig, ax = plt.subplots()\n",
    "        ax.plot(range(len(check_mean)),check_mean)\n",
    "        ax.set_xlabel(\"p\")\n",
    "        plt.title(\"Mean B(p)-B(p-1)\"+kind)\n",
    "        fig, ax = plt.subplots()\n",
    "        for p in [20,30,40,50,60,70,79]:\n",
    "            ax.plot(y_grid,sim_output[2][p][1,4,:], label=\"Buyer state 4 p=%d\" %p)\n",
    "        ax.legend(bbox_to_anchor=(1.05, 1), loc=2, borderaxespad=0.)\n",
    "        check_max = [np.max(c) for c in sim_output[0]]\n",
    "        fig, ax = plt.subplots()\n",
    "        ax.plot(range(len(check_max)),check_max)\n",
    "        ax.set_xlabel(\"p\")\n",
    "        plt.title(\"Max B(p)-B(p-1)\")\n",
    "        sim_bid_function = sim_output[1][79]\n",
    "        fig, ax = plt.subplots()\n",
    "        #ax.plot(y_grid,y_grid, label=\"y\")\n",
    "        for j in [0,1,2]:\n",
    "            ax.plot(y_grid,sim_bid_function[j,4,:], label=\"$b_%d(y,0)\" %j)\n",
    "        #for j in [1,2]:\n",
    "        #    ax.plot(y_grid,sim_output[1][1][j,4,:], label=\"$b_%d(y,8)\" %j)\n",
    "        #for j in [1,2]:\n",
    "        #    ax.plot(y_grid,sim_output[1][1][j,8,:], label=\"$b_%d(y,8)\" %j)\n",
    "        ax.set_xlabel(\"Wealth\")\n",
    "        ax.set_ylabel(\"Bid\")\n",
    "        ax.legend(bbox_to_anchor=(1.05, 1), loc=2, borderaxespad=0.)"
   ]
  },
  {
   "cell_type": "code",
   "execution_count": 50,
   "metadata": {},
   "outputs": [
    {
     "ename": "TypeError",
     "evalue": "fn_iterate() missing 1 required positional argument: 'deg'",
     "output_type": "error",
     "traceback": [
      "\u001b[1;31m---------------------------------------------------------------------------\u001b[0m",
      "\u001b[1;31mTypeError\u001b[0m                                 Traceback (most recent call last)",
      "\u001b[1;32m<timed exec>\u001b[0m in \u001b[0;36m<module>\u001b[1;34m()\u001b[0m\n",
      "\u001b[1;31mTypeError\u001b[0m: fn_iterate() missing 1 required positional argument: 'deg'"
     ]
    }
   ],
   "source": [
    "%%time\n",
    "np.random.seed(2)\n",
    "\n",
    "#initial value functions\n",
    "B_cont = (1/(1-beta))*  (alpha*np.log((1-beta)*y_grid) + np.zeros(len(w)*state_grid.shape[0]*len(y_grid)).reshape(len(w),state_grid.shape[0],len(y_grid)))\n",
    "S_cont = (1/(1-beta))* (alpha*np.log((1-beta)*y_grid) + np.array(np.repeat(w,state_grid.shape[0]*len(y_grid))).reshape(len(w),state_grid.shape[0],len(y_grid)))\n",
    "\n",
    "#every one of N potential bidders has probability sigma of being active -- if m bidders are active, there are m-1 rivals\n",
    "rival_bidders = np.random.binomial(N,sigma,size=n_draws) - 1\n",
    "rival_bidders_ids = np.array([np.random.choice(N,size=rival_bidders[i], replace=False) for i in np.arange(n_draws)]) #dimensions: n_draws\n",
    "\n",
    "#every one of N potential bidders has probability sigma of being active\n",
    "active_bidders = np.random.binomial(N,sigma,size=n_draws)\n",
    "active_bidders_ids = np.array([np.random.choice(N,size=active_bidders[i], replace=False) for i in np.arange(n_draws)])\n",
    "#dimensions: n_draws\n",
    "\n",
    "param_1 = [alpha,w]\n",
    "param_2 = [beta,rho,sigma]\n",
    "set1 = [y_grid,lyg,b_grid,n_draws,state_grid]    \n",
    "\n",
    "sim_output = fn_iterate(f_param1 = param_1,f_param2 = param_2,f_set = set1,\n",
    "                    B_start = B_cont,S_start = S_cont, n_iter = 80,\n",
    "                    f_distr_R_states = distr_R_states,f_transition_probs = transition_probs,\n",
    "                    f_y_realis = y_realis_states,\n",
    "                    f_rival_bidders_ids=rival_bidders_ids, f_active_bidders_ids = active_bidders_ids,kind='nearest')\n",
    "\n",
    "#check,bids_iter,B1,S1"
   ]
  },
  {
   "cell_type": "code",
   "execution_count": 43,
   "metadata": {},
   "outputs": [
    {
     "data": {
      "text/plain": [
       "Text(0.5,1,'Mean B(p)-B(p-1)')"
      ]
     },
     "execution_count": 43,
     "metadata": {},
     "output_type": "execute_result"
    },
    {
     "data": {
      "image/png": "[encoded data removed]",
      "text/plain": [
       "<matplotlib.figure.Figure at 0x1ef96d6da90>"
      ]
     },
     "metadata": {},
     "output_type": "display_data"
    }
   ],
   "source": [
    "check_mean = [np.mean(c) for c in sim_output[0]]\n",
    "\n",
    "fig, ax = plt.subplots()\n",
    "ax.plot(range(len(check_mean)),check_mean)\n",
    "ax.set_xlabel(\"p\")\n",
    "plt.title(\"Mean B(p)-B(p-1)\")"
   ]
  },
  {
   "cell_type": "code",
   "execution_count": 44,
   "metadata": {},
   "outputs": [
    {
     "data": {
      "text/plain": [
       "Text(0.5,1,'Max B(p)-B(p-1)')"
      ]
     },
     "execution_count": 44,
     "metadata": {},
     "output_type": "execute_result"
    },
    {
     "data": {
      "image/png": "[encoded data removed]",
      "text/plain": [
       "<matplotlib.figure.Figure at 0x1ef96e330f0>"
      ]
     },
     "metadata": {},
     "output_type": "display_data"
    }
   ],
   "source": [
    "check_max = [np.max(c) for c in sim_output[0]]\n",
    "\n",
    "fig, ax = plt.subplots()\n",
    "ax.plot(range(len(check_max)),check_max)\n",
    "ax.set_xlabel(\"p\")\n",
    "plt.title(\"Max B(p)-B(p-1)\")"
   ]
  },
  {
   "cell_type": "code",
   "execution_count": 45,
   "metadata": {},
   "outputs": [
    {
     "data": {
      "text/plain": [
       "<matplotlib.legend.Legend at 0x1ef97ea8390>"
      ]
     },
     "execution_count": 45,
     "metadata": {},
     "output_type": "execute_result"
    },
    {
     "data": {
      "image/png": "[encoded data removed]",
      "text/plain": [
       "<matplotlib.figure.Figure at 0x1ef97e7b9e8>"
      ]
     },
     "metadata": {},
     "output_type": "display_data"
    }
   ],
   "source": [
    "fig, ax = plt.subplots()\n",
    "for p in [20,30,40,50,60,70,79]:\n",
    "    ax.plot(y_grid,sim_output[2][p][1,4,:], label=\"Buyer state 4 p=%d\" %p)\n",
    "ax.legend(bbox_to_anchor=(1.05, 1), loc=2, borderaxespad=0.)"
   ]
  },
  {
   "cell_type": "code",
   "execution_count": 46,
   "metadata": {},
   "outputs": [],
   "source": [
    "# Final Bid Function\n",
    "sim_bid_function = sim_output[1][79]"
   ]
  },
  {
   "cell_type": "code",
   "execution_count": 47,
   "metadata": {},
   "outputs": [
    {
     "data": {
      "text/plain": [
       "<matplotlib.legend.Legend at 0x1ef96ef7550>"
      ]
     },
     "execution_count": 47,
     "metadata": {},
     "output_type": "execute_result"
    },
    {
     "data": {
      "image/png": "[encoded data removed]",
      "text/plain": [
       "<matplotlib.figure.Figure at 0x1ef96ec8518>"
      ]
     },
     "metadata": {},
     "output_type": "display_data"
    }
   ],
   "source": [
    "fig, ax = plt.subplots()\n",
    "#ax.plot(y_grid,y_grid, label=\"y\")\n",
    "for j in [0,1,2]:\n",
    "    ax.plot(y_grid,sim_bid_function[j,4,:], label=\"$b_%d(y,0)\" %j)\n",
    "#for j in [1,2]:\n",
    "#    ax.plot(y_grid,sim_output[1][1][j,4,:], label=\"$b_%d(y,8)\" %j)\n",
    "#for j in [1,2]:\n",
    "#    ax.plot(y_grid,sim_output[1][1][j,8,:], label=\"$b_%d(y,8)\" %j)\n",
    "ax.set_xlabel(\"Wealth\")\n",
    "ax.set_ylabel(\"Bid\")\n",
    "ax.legend(bbox_to_anchor=(1.05, 1), loc=2, borderaxespad=0.)"
   ]
  },
  {
   "cell_type": "code",
   "execution_count": null,
   "metadata": {},
   "outputs": [],
   "source": [
    "# Prices by states and cars\n",
    "sim_distr_bids = np.array([[np.interp(y_realis_states[s,:],y_grid,sim_bid_function[j,s,:]) for s in np.arange(lsg)] for j in np.arange(J)])\n",
    "sim_distr_b_2 = np.array([[[np.sort(sim_distr_bids[j,s,active_bidders_ids[i]])[-2] for i in np.arange(n_draws)] for s in np.arange(lsg)] for j in np.arange(J)])\n",
    "\n",
    "sim_exp_price = np.mean(sim_distr_b_2,axis=2)\n"
   ]
  },
  {
   "cell_type": "code",
   "execution_count": null,
   "metadata": {},
   "outputs": [],
   "source": [
    "# Simulate prices over years by interpolating to S&P500 in respective year\n",
    "time_prices = np.array([interp1d(state_grid,sim_exp_price[j,:], fill_value='extrapolate')(df['avgsp']) for j in range(J)])"
   ]
  },
  {
   "cell_type": "code",
   "execution_count": null,
   "metadata": {},
   "outputs": [],
   "source": [
    "#plt.plot(range(1992,2017),time_prices[1,:])\n",
    "\n",
    "fig, ax = plt.subplots()\n",
    "for j in [0,1,2]:\n",
    "    ax.plot(range(1992,2017),time_prices[j,:], label=\"Car %d\" %j)\n",
    "ax.legend(bbox_to_anchor=(1.05, 1), loc=2, borderaxespad=0.)\n",
    "plt.title(\"Simulated Expected Prices\")\n"
   ]
  },
  {
   "cell_type": "code",
   "execution_count": null,
   "metadata": {},
   "outputs": [],
   "source": [
    "fig, ax = plt.subplots()\n",
    "for j in [0,1,2]:\n",
    "    ax.plot(range(1992,2017),np.log(time_prices[j,:]/time_prices[j,16]), label=\"Car %d\" %j)\n",
    "ax.plot(range(1992,2017),np.log(df['avgsp']/df['avgsp'][16]), label=\"Average S&P500\")\n",
    "ax.legend(bbox_to_anchor=(1.05, 1), loc=2, borderaxespad=0.)\n",
    "plt.title(\"Log Prices vs Log S&P500\")\n"
   ]
  },
  {
   "cell_type": "code",
   "execution_count": null,
   "metadata": {},
   "outputs": [],
   "source": [
    "#calculate average over J\n",
    "avg_time_prices = np.mean(time_prices, axis=0)\n",
    "\n",
    "avg_time_prices.shape\n",
    "df['avgsp'].shape\n",
    "\n",
    "np.corrcoef(avg_time_prices,df['avgsp'])[0][1]\n"
   ]
  },
  {
   "cell_type": "code",
   "execution_count": null,
   "metadata": {},
   "outputs": [],
   "source": [
    "df_prices=pd.read_csv(\"simulation_data/book_total_brands.csv\", sep=\",\")"
   ]
  },
  {
   "cell_type": "code",
   "execution_count": null,
   "metadata": {},
   "outputs": [],
   "source": [
    "fig, ax = plt.subplots()\n",
    "for j in [0,1,2]:\n",
    "    ax.plot(range(1992,2017),np.log(time_prices[j,:]/time_prices[j,16]), label=\"Car %d\" %j)\n",
    "#ax.plot(range(1992,2017),np.log(df['avgsp']/df['avgsp'][16]), label=\"Average S&P500\")\n",
    "ax.plot(range(1993,2016),np.log(df_prices['avg_value_USD']/df_prices['avg_value_USD'][15]), label=\"Cars Data\", color=\"black\")\n",
    "ax.legend(bbox_to_anchor=(1.05, 1), loc=2, borderaxespad=0.)\n",
    "plt.title(\"Simulated Log Prices vs Data\")\n",
    "\n",
    "\n",
    "\n"
   ]
  },
  {
   "cell_type": "code",
   "execution_count": null,
   "metadata": {},
   "outputs": [],
   "source": [
    "#correlate data with S&P500\n",
    "np.corrcoef(df_prices['avg_value_USD'],df['avgsp'][1:24])\n",
    "\n",
    "#len(df_prices['avg_value_USD'].values)\n",
    "#len(df['avgsp'].values)\n",
    "\n",
    "#df[1:24]"
   ]
  },
  {
   "cell_type": "code",
   "execution_count": null,
   "metadata": {},
   "outputs": [],
   "source": [
    "df_prices"
   ]
  },
  {
   "cell_type": "code",
   "execution_count": null,
   "metadata": {},
   "outputs": [],
   "source": [
    "fig, ax = plt.subplots()\n",
    "ax.plot(range(1993,2016),np.log(df_prices['avg_value_USD']/df_prices['avg_value_USD'][15]), label=\"Avg Price Data\", color=\"black\")\n",
    "ax.plot(range(1993,2016),np.log(df_prices['avg_ferrari']/df_prices['avg_ferrari'][15]), label=\"Ferrari\", color=\"red\")\n",
    "ax.plot(range(1993,2016),np.log(df_prices['avg_mercedes']/df_prices['avg_mercedes'][15]), label=\"Mercedes\", color=\"blue\")\n",
    "ax.plot(range(1993,2016),np.log(df_prices['avg_porsche']/df_prices['avg_porsche'][15]), label=\"Porsche\", color=\"green\")\n",
    "ax.legend(bbox_to_anchor=(1.05, 1), loc=2, borderaxespad=0.)"
   ]
  },
  {
   "cell_type": "code",
   "execution_count": null,
   "metadata": {},
   "outputs": [],
   "source": []
  },
  {
   "cell_type": "code",
   "execution_count": null,
   "metadata": {},
   "outputs": [],
   "source": []
  }
 ],
 "metadata": {
  "kernelspec": {
   "display_name": "Python 3",
   "language": "python",
   "name": "python3"
  },
  "language_info": {
   "codemirror_mode": {
    "name": "ipython",
    "version": 3
   },
   "file_extension": ".py",
   "mimetype": "text/x-python",
   "name": "python",
   "nbconvert_exporter": "python",
   "pygments_lexer": "ipython3",
   "version": "3.6.4"
  }
 },
 "nbformat": 4,
 "nbformat_minor": 2
}
